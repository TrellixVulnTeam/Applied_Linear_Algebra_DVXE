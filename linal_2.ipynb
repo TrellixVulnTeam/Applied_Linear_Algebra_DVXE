{
 "cells": [
  {
   "cell_type": "markdown",
   "metadata": {},
   "source": [
    "## Applied Linear Algebra\n",
    "### Amantur Amatov Homework 2 Variant 3"
   ]
  },
  {
   "cell_type": "markdown",
   "metadata": {},
   "source": [
    "### 1. Find the best approximation matrix $A_1$ of rank 2 of the matrix A in the norm $||\\cdot||_2$ and find $||A-A_1||_2$, where  \n",
    "$$A = \\begin{bmatrix}-19 & -14 & 52 & -36\\\\26 & 52 & -50 & 0\\\\-32 & -76 & -31 & 18\\end{bmatrix}$$"
   ]
  },
  {
   "cell_type": "markdown",
   "metadata": {},
   "source": [
    "### Solution:  \n",
    "\n",
    "Let us find at first SVD decomposition of this matrix $A$, which equals\n",
    "$$ A = V\\Sigma U^* $$\n",
    "After we find matrix $\\Sigma$ we should reduce its rank by 1 (to get the rank 2 and $\\Sigma_r$) and then get the matrix $A_1$, which equals\n",
    "$$ A_1 = V\\Sigma_r U^*, $$\n",
    "where r = 2."
   ]
  },
  {
   "cell_type": "code",
   "execution_count": 86,
   "metadata": {
    "pycharm": {
     "is_executing": true
    }
   },
   "outputs": [
    {
     "name": "stdout",
     "output_type": "stream",
     "text": [
      "Matrix V:\n",
      "[[ 0.33333333 -0.66666667  0.66666667]\n",
      " [-0.66666667  0.33333333  0.66666667]\n",
      " [ 0.66666667  0.66666667  0.33333333]]\n",
      "Matrix Sigma:\n",
      "[[105.   0.   0.]\n",
      " [  0.  84.   0.]\n",
      " [  0.   0.  21.]]\n",
      "Matrix Uh:\n",
      "[[-4.28571429e-01 -8.57142857e-01  2.85714286e-01  2.77555756e-16]\n",
      " [ 6.66133815e-16 -2.85714286e-01 -8.57142857e-01  4.28571429e-01]\n",
      " [-2.85714286e-01  9.71445147e-17 -4.28571429e-01 -8.57142857e-01]]\n"
     ]
    }
   ],
   "source": [
    "# Finding SVD of matrix A\n",
    "import numpy as np\n",
    "import sympy as sp\n",
    "\n",
    "A = np.array([[-19, -14, 52, -36], \n",
    "              [26,52, -50, 0],\n",
    "              [-32, -76, -31, 18]])\n",
    "V, s, Uh = np.linalg.svd(A, full_matrices=False)\n",
    "print('Matrix V:\\n{}\\nMatrix Sigma:\\n{}\\nMatrix Uh:\\n{}'.format(V,np.diag(s),Uh))\n"
   ]
  },
  {
   "cell_type": "markdown",
   "metadata": {},
   "source": [
    "$$ A = V \\Sigma U^* = \\begin{bmatrix} 1/3 & -2/3 & 2/3 \\\\ -2/3 & 1/3 & 2/3 \\\\ 2/3 & 2/3 & 1/3 \\end{bmatrix} \\cdot \\begin{bmatrix} 105 & 0 & 0 \\\\ 0 & 84 & 0 \\\\ 0 & 0 & 21 \\end{bmatrix} \\cdot \\begin{bmatrix} -3/7 & -6/7 & 2/7 & 0 \\\\ 0 & -2/7 & -6/7 & 3/7\\\\-2/7 & 0 & -3/7 & -6/7\\end{bmatrix}$$\n"
   ]
  },
  {
   "cell_type": "markdown",
   "metadata": {},
   "source": [
    "Now, let us reduce rank of matrix $\\Sigma$."
   ]
  },
  {
   "cell_type": "code",
   "execution_count": 87,
   "metadata": {},
   "outputs": [
    {
     "data": {
      "text/plain": [
       "array([[105.,   0.,   0.],\n",
       "       [  0.,  84.,   0.],\n",
       "       [  0.,   0.,   0.]])"
      ]
     },
     "execution_count": 87,
     "metadata": {},
     "output_type": "execute_result"
    }
   ],
   "source": [
    "# Reducing rank of matrix Sigma to rnk=2\n",
    "S_rank = np.diag(s)\n",
    "S_rank[2,2] = 0\n",
    "S_rank"
   ]
  },
  {
   "cell_type": "markdown",
   "metadata": {},
   "source": [
    "$$ \\Sigma_{rank} = \\begin{bmatrix} 105 & 0 & 0 \\\\ 0 & 84 & 0 \\\\ 0 & 0 & 0 \\end{bmatrix}$$\n",
    "where $rank=2$"
   ]
  },
  {
   "cell_type": "markdown",
   "metadata": {},
   "source": [
    "Now, let us compute matrix $A_r$ by using matrix $\\Sigma_r$."
   ]
  },
  {
   "cell_type": "code",
   "execution_count": 88,
   "metadata": {},
   "outputs": [
    {
     "name": "stdout",
     "output_type": "stream",
     "text": [
      "Matrix A_r:\n",
      "[[-15. -14.  58. -24.]\n",
      " [ 30.  52. -44.  12.]\n",
      " [-30. -76. -28.  24.]]\n",
      "Its rank: 2\n"
     ]
    }
   ],
   "source": [
    "# computing matrix A_1\n",
    "A_r = V @ S_rank @ Uh\n",
    "\n",
    "# checking matrix and its rank\n",
    "print('Matrix A_r:\\n{}\\nIts rank: {}'.format(A_r,np.linalg.matrix_rank(A_r)))"
   ]
  },
  {
   "cell_type": "markdown",
   "metadata": {},
   "source": [
    "$$A_r = \\begin{bmatrix}-15 & -13 & 58 & -24\\\\30 & 52 & -44 & 12\\\\-30 & -76 & -28 & 24\\end{bmatrix}$$"
   ]
  },
  {
   "cell_type": "markdown",
   "metadata": {},
   "source": [
    "So we have matrices $A$ and $A_r$. Let us find  $||A-A_r||_2$."
   ]
  },
  {
   "cell_type": "code",
   "execution_count": 89,
   "metadata": {
    "pycharm": {
     "is_executing": true
    }
   },
   "outputs": [
    {
     "name": "stdout",
     "output_type": "stream",
     "text": [
      "Second norm: 20.74161581424778\n"
     ]
    }
   ],
   "source": [
    "A_r = A_r.astype(int)\n",
    "A = A.astype(int)\n",
    "diff = A - A_r\n",
    "_,s_diff,_ = np.linalg.svd(diff)\n",
    "print('Second norm: {}'.format(max(s_diff)))"
   ]
  },
  {
   "cell_type": "markdown",
   "metadata": {},
   "source": [
    "$$||A-A_r||_2 = \\left\\lVert\\begin{bmatrix}-4 & -1 & -6 & -12\\\\-4 & 0 & -6 & -12\\\\-2 & 0 & -3 & -5\\end{bmatrix}\\right\\rVert_2 = max_{1\\leq i\\leq m}{\\ \\sigma_i}=20.74$$\n",
    "\n",
    "### Answers:\n",
    "As we can see this norm equals approximately to the singular value of matrix $A$: $||A-A_r||_2\\approx\\sigma_{r+1}=21$"
   ]
  },
  {
   "cell_type": "markdown",
   "metadata": {},
   "source": [
    "### 2. Estimate the relative error of the approximate solution $(1, 1)$ of the system $Ax = b$ in the norms $|\\cdot|_1$ and $|\\cdot|_2$ using the condition number of the matrix $A$, where\n",
    "$$A = \\begin{pmatrix} 1.0 & -0.06 \\\\-4.91 & -7.02\\end{pmatrix}, b = \\begin{pmatrix} 0.98 \\\\-12.09\\end{pmatrix}$$"
   ]
  },
  {
   "cell_type": "markdown",
   "metadata": {},
   "source": [
    "### Solution:\n",
    "$$\\hat{A} = \\begin{pmatrix} 1 & 0 \\\\-5 & -7\\end{pmatrix}, \\hat{b} = \\begin{pmatrix} 1 \\\\-12\\end{pmatrix}, \\hat{x} = \\begin{pmatrix} 1 \\\\1\\end{pmatrix}$$\n",
    "Condition number:  \n",
    "$$\\chi(A) \\approx \\chi(\\hat{A}) \\approx ||\\hat{A}||\\cdot||\\hat{A}^{-1}||\n",
    "$$"
   ]
  },
  {
   "cell_type": "markdown",
   "metadata": {},
   "source": [
    "So let us find at first the inverse matrix of $\\hat{A}$."
   ]
  },
  {
   "cell_type": "code",
   "execution_count": 90,
   "metadata": {},
   "outputs": [
    {
     "data": {
      "text/plain": [
       "array([[ 1.        , -0.        ],\n",
       "       [-0.71428571, -0.14285714]])"
      ]
     },
     "execution_count": 90,
     "metadata": {},
     "output_type": "execute_result"
    }
   ],
   "source": [
    "A = np.array([[1,0],[-5,-7]])\n",
    "b = np.array([[1,-12]])\n",
    "x = np.array([[1,1]])\n",
    "A_inv = np.linalg.inv(A)\n",
    "A_inv"
   ]
  },
  {
   "cell_type": "markdown",
   "metadata": {},
   "source": [
    "$$A^{-1} = \\begin{pmatrix}1.0 & 0.0\\\\-0.714285714285714 & -0.142857142857143\\end{pmatrix}$$"
   ]
  },
  {
   "cell_type": "code",
   "execution_count": 91,
   "metadata": {},
   "outputs": [
    {
     "name": "stdout",
     "output_type": "stream",
     "text": [
      "Chi 1 of matrix A:  11.999999999999998\n"
     ]
    }
   ],
   "source": [
    "chi_1 = max(np.sum(np.absolute(A),axis=0))*max(np.sum(np.absolute(A_inv),axis=0))\n",
    "print('Chi 1 of matrix A: ', chi_1)"
   ]
  },
  {
   "cell_type": "markdown",
   "metadata": {},
   "source": [
    "For the norm $|\\cdot|_1$ we have a condition number:\n",
    "$$\\chi_1 = max\\{6,7\\} \\cdot max\\{1.71428571, 0.14285714\\}=12$$"
   ]
  },
  {
   "cell_type": "markdown",
   "metadata": {},
   "source": [
    "For the norm $|\\cdot|_2$ we have a condition number:\n",
    "$$\\chi_2 = \\sqrt{\\frac{\\lambda_{max}(A^*A)}{\\lambda_{min}(A^*A)}}$$\n",
    "Let us find $A^*A$ and then $\\chi_2$."
   ]
  },
  {
   "cell_type": "code",
   "execution_count": 92,
   "metadata": {},
   "outputs": [
    {
     "name": "stdout",
     "output_type": "stream",
     "text": [
      "Singular Values: [74.34087404  0.65912596]\n",
      "Chi 2 of matrix A:  10.6201248627967\n"
     ]
    }
   ],
   "source": [
    "AA = A.T @ A\n",
    "_,singval,_ = np.linalg.svd(AA, full_matrices=True)\n",
    "print('Singular Values: {}'.format(singval))\n",
    "chi_2 = np.sqrt(max(singval)/min(singval))\n",
    "print('Chi 2 of matrix A: ', chi_2)"
   ]
  },
  {
   "cell_type": "markdown",
   "metadata": {},
   "source": [
    "So, we have eigenvalues:  \n",
    "$ \\lambda_{max} = 74.34087404,\\, \\lambda_{min} = 0.65912596$ and $\\chi_2 = 10.62$"
   ]
  },
  {
   "cell_type": "markdown",
   "metadata": {},
   "source": [
    "Let us now find $\\Delta b, \\delta_1 b,\\delta_2 b$ and $\\Delta A, \\delta_1 A,\\delta_2 A$."
   ]
  },
  {
   "cell_type": "code",
   "execution_count": 93,
   "metadata": {},
   "outputs": [
    {
     "name": "stdout",
     "output_type": "stream",
     "text": [
      "delta_1_b: 0.008461538461538453\n",
      "\n",
      "delta_2_b: 0.007656414934887754\n",
      "\n"
     ]
    }
   ],
   "source": [
    "A_real = np.array([[1,-0.06],[-4.91,-7.02]])\n",
    "b_real = np.array([[0.98,-12.09]])\n",
    "Delta_b = b - b_real\n",
    "Delta_A = A - A_real\n",
    "\n",
    "\n",
    "delta_1_b = np.sum(np.abs(Delta_b))/np.sum(np.abs(b))\n",
    "delta_2_b = np.sqrt(np.sum(Delta_b**2))/np.sqrt(np.sum(b**2))\n",
    "\n",
    "print(\"\"\"delta_1_b: {}\\n\n",
    "delta_2_b: {}\\n\"\"\".format(delta_1_b,delta_2_b))"
   ]
  },
  {
   "cell_type": "code",
   "execution_count": 94,
   "metadata": {},
   "outputs": [
    {
     "name": "stdout",
     "output_type": "stream",
     "text": [
      "delta_1_A: 0.012857142857142836\n",
      "\n",
      "delta_2_A: 0.010866415228699145\n",
      "\n"
     ]
    }
   ],
   "source": [
    "delta_1_A = max(np.sum(np.absolute(Delta_A),axis=0))/max(np.sum(np.absolute(A),axis=0))\n",
    "\n",
    "dAdA = Delta_A.T @ Delta_A\n",
    "_,singval_dAdA,_ = np.linalg.svd(dAdA)\n",
    "delta_2_A = np.sqrt(max(singval_dAdA)/max(singval))\n",
    "delta_2_A\n",
    "print(\"\"\"delta_1_A: {}\\n\n",
    "delta_2_A: {}\\n\"\"\".format(delta_1_A,delta_2_A))"
   ]
  },
  {
   "cell_type": "markdown",
   "metadata": {},
   "source": [
    "$$\\Delta b = \\begin{pmatrix}0.02 \\\\ 0.09\\end{pmatrix}$$\n",
    "\n",
    "$$\\Delta A = \\begin{pmatrix}0.0 & 0.06\\\\-0.02 & 0.02\\end{pmatrix}$$\n",
    "\n",
    "$$\\delta_1 b =\\frac{|\\Delta b|_1}{|b|_1}\\approx \\frac{|\\Delta b|_1}{|\\hat{b}|_1} = \\frac{0.11}{13}= 0.00846$$\n",
    "\n",
    "$$\\delta_2 b =\\frac{|\\Delta b|_2}{|b|_2}\\approx \\frac{|\\Delta b|_2}{|\\hat{b}|_2} = \\frac{\\sqrt{0.02^2+0.09^2}}{\\sqrt{1^2+12^2}}= 0.007656$$\n",
    "\n",
    "$$\\delta_1 A =\\frac{|\\Delta A|_1}{|A|_1}\\approx \\frac{|\\Delta A|_1}{|\\hat{A}|_1} = \\frac{0.09}{7}= 0.01286$$\n",
    "\n",
    "For $\\delta_2 A$ we find $\\Delta A^* \\Delta A$ and then:  \n",
    "$$\\delta_2 A =\\frac{|\\Delta A|_2}{|A|_2}\\approx \\frac{|\\Delta A|_2}{|\\hat{A}|_2} =\\frac{\\sigma_1 (\\Delta A)}{\\sigma_1 (A)} = \\frac{\\sqrt{0.00878}}{\\sqrt{74.3408}}= 0.01087$$"
   ]
  },
  {
   "cell_type": "markdown",
   "metadata": {},
   "source": [
    "Let's check the relative errors of solutions in our norms."
   ]
  },
  {
   "cell_type": "code",
   "execution_count": 95,
   "metadata": {},
   "outputs": [
    {
     "name": "stdout",
     "output_type": "stream",
     "text": [
      "Error 1 upper bound: 0.25582417582417544\n",
      "\n",
      "Error 1 lower bound: 0.0017765567765567743\n",
      "\n",
      "Error 2 upper bound: 0.1967147691496699\n",
      "\n",
      "Error 2 lower bound: 0.001744125460188714\n",
      "\n"
     ]
    }
   ],
   "source": [
    "norm1_upper_bound = chi_1*(delta_1_b+delta_1_A)\n",
    "norm2_upper_bound = chi_2*(delta_2_b+delta_2_A)\n",
    "\n",
    "norm1_lower_bound = 1/chi_1*(delta_1_b+delta_1_A)\n",
    "norm2_lower_bound = 1/chi_2*(delta_2_b+delta_2_A)\n",
    "\n",
    "print(\"\"\"Error 1 upper bound: {}\\n\n",
    "Error 1 lower bound: {}\\n\n",
    "Error 2 upper bound: {}\\n\n",
    "Error 2 lower bound: {}\\n\"\"\".format(norm1_upper_bound,\n",
    "                                   norm1_lower_bound,\n",
    "                                   norm2_upper_bound,\n",
    "                                   norm2_lower_bound))"
   ]
  },
  {
   "cell_type": "markdown",
   "metadata": {},
   "source": [
    "### Answer:\n",
    "Norm $|\\cdot|_2$ gave the lowest relative error $\\delta_2 x \\in [0.0017, 0.1967]$"
   ]
  },
  {
   "cell_type": "markdown",
   "metadata": {},
   "source": [
    "### 3. Solve the system approximately and estimate the error of the solution in the norms $|\\cdot|_1$, $|\\cdot|_2$ and $|\\cdot|_{\\infty}$:\n",
    "$$ \\begin{cases} (-10+\\varepsilon_1)x+2(-3+\\varepsilon_2)y = -3+\\varepsilon_3 \\\\ -3x + (-4+\\varepsilon_1)y = -4+ \\varepsilon_4 \\end{cases}$$\n",
    "\n",
    "### where the unknown numbers $\\varepsilon_j$ satisfy the conditions $|\\varepsilon_j| < 0.05$ for all $j=1,...,4$."
   ]
  },
  {
   "cell_type": "markdown",
   "metadata": {},
   "source": [
    "### Solution:\n",
    "$$\\hat{A} = \\begin{pmatrix} -10 & -6 \\\\-3 & -4\\end{pmatrix}, \\hat{b} = \\begin{pmatrix} -3 \\\\-4\\end{pmatrix}, \\hat{x} = \\begin{pmatrix} -\\frac{6}{11} \\\\\\frac{31}{22}\\end{pmatrix}$$\n",
    "Condition number:  \n",
    "$$\\chi(A) \\approx \\chi(\\hat{A}) \\approx ||\\hat{A}||\\cdot||\\hat{A}^{-1}||\n",
    "$$"
   ]
  },
  {
   "cell_type": "markdown",
   "metadata": {},
   "source": [
    "So let us find at first the inverse matrix of $\\hat{A}$."
   ]
  },
  {
   "cell_type": "code",
   "execution_count": 96,
   "metadata": {},
   "outputs": [
    {
     "data": {
      "text/plain": [
       "array([[-0.18181818,  0.27272727],\n",
       "       [ 0.13636364, -0.45454545]])"
      ]
     },
     "execution_count": 96,
     "metadata": {},
     "output_type": "execute_result"
    }
   ],
   "source": [
    "A = np.array([[-10,-6],[-3,-4]])\n",
    "b = np.array([[-3,-4]])\n",
    "x = np.array([[-6/11, 31/22]])\n",
    "A_inv = np.linalg.inv(A)\n",
    "A_inv"
   ]
  },
  {
   "cell_type": "markdown",
   "metadata": {},
   "source": [
    "$$A^{-1} = \\begin{pmatrix}-\\frac{2}{11} & \\frac{3}{11}\\\\\\frac{3}{22} & -\\frac{5}{11}\\end{pmatrix}$$"
   ]
  },
  {
   "cell_type": "code",
   "execution_count": 97,
   "metadata": {},
   "outputs": [
    {
     "name": "stdout",
     "output_type": "stream",
     "text": [
      "Chi 1 of matrix A:  9.454545454545455\n",
      "Chi inf of matrix A:  9.454545454545457\n"
     ]
    }
   ],
   "source": [
    "chi_1 = max(np.sum(np.absolute(A),axis=0))*max(np.sum(np.absolute(A_inv),axis=0))\n",
    "print('Chi 1 of matrix A: ', chi_1)\n",
    "chi_inf = max(np.sum(np.absolute(A),axis=1))*max(np.sum(np.absolute(A_inv),axis=1))\n",
    "print('Chi inf of matrix A: ', chi_inf)"
   ]
  },
  {
   "cell_type": "markdown",
   "metadata": {},
   "source": [
    "For the norm $|\\cdot|_1$ we have a condition number:\n",
    "$$\\chi_1 = max\\{13,10\\} \\cdot max\\{\\frac{7}{22}, \\frac{8}{11}\\}=9.45$$"
   ]
  },
  {
   "cell_type": "markdown",
   "metadata": {},
   "source": [
    "For the norm $|\\cdot|_{\\infty}$ we have a condition number:\n",
    "$$\\chi_{\\infty} = max\\{16,7\\} \\cdot max\\{\\frac{5}{11}, \\frac{13}{22}\\}=9.45$$"
   ]
  },
  {
   "cell_type": "markdown",
   "metadata": {},
   "source": [
    "For the norm $|\\cdot|_2$ we have a condition number:\n",
    "$$\\chi_2 = \\sqrt{\\frac{\\lambda_{max}(A^*A)}{\\lambda_{min}(A^*A}}$$\n",
    "Let us find $A^*A$ and then $\\chi_2$."
   ]
  },
  {
   "cell_type": "code",
   "execution_count": 98,
   "metadata": {},
   "outputs": [
    {
     "name": "stdout",
     "output_type": "stream",
     "text": [
      "Singular Values: [157.93545699   3.06454301]\n",
      "Chi 2 of matrix A:  7.178884408856446\n"
     ]
    }
   ],
   "source": [
    "AA = A.T @ A\n",
    "_,singval,_ = np.linalg.svd(AA, full_matrices=True)\n",
    "print('Singular Values: {}'.format(singval))\n",
    "chi_2 = np.sqrt(max(singval)/min(singval))\n",
    "print('Chi 2 of matrix A: ', chi_2)"
   ]
  },
  {
   "cell_type": "markdown",
   "metadata": {},
   "source": [
    "So, we have eigenvalues:  \n",
    "$ \\lambda_{max} = 157.93545699,\\, \\lambda_{min} = 3.06454301$ and $\\chi_2 = 7.18$"
   ]
  },
  {
   "cell_type": "markdown",
   "metadata": {},
   "source": [
    "Let us now find $\\Delta b$ and $\\Delta A$."
   ]
  },
  {
   "cell_type": "code",
   "execution_count": 99,
   "metadata": {},
   "outputs": [],
   "source": [
    "e1, e2, e3, e4 = sp.symbols('varepsilon1 varepsilon2 varepsilon3 varepsilon4')\n",
    "A_real = sp.Matrix([[-10+e1, 2*(-3+e2)],[-3, -4+e1]])\n",
    "b_real = sp.Matrix([[-3+e3, -4+e4]])"
   ]
  },
  {
   "cell_type": "code",
   "execution_count": 100,
   "metadata": {},
   "outputs": [
    {
     "name": "stdout",
     "output_type": "stream",
     "text": [
      "Delta A equals:\n"
     ]
    },
    {
     "data": {
      "text/latex": [
       "$\\displaystyle \\left[\\begin{matrix}\\varepsilon_{1} & 2 \\varepsilon_{2}\\\\0 & \\varepsilon_{1}\\end{matrix}\\right]$"
      ],
      "text/plain": [
       "Matrix([\n",
       "[varepsilon1, 2*varepsilon2],\n",
       "[          0,   varepsilon1]])"
      ]
     },
     "execution_count": 100,
     "metadata": {},
     "output_type": "execute_result"
    }
   ],
   "source": [
    "Delta_A = A_real - sp.Matrix(A)\n",
    "Delta_b = b_real - sp.Matrix(b)\n",
    "print('Delta A equals:')\n",
    "Delta_A"
   ]
  },
  {
   "cell_type": "code",
   "execution_count": 101,
   "metadata": {},
   "outputs": [
    {
     "name": "stdout",
     "output_type": "stream",
     "text": [
      "Delta b equals:\n"
     ]
    },
    {
     "data": {
      "text/latex": [
       "$\\displaystyle \\left[\\begin{matrix}\\varepsilon_{3} & \\varepsilon_{4}\\end{matrix}\\right]$"
      ],
      "text/plain": [
       "Matrix([[varepsilon3, varepsilon4]])"
      ]
     },
     "execution_count": 101,
     "metadata": {},
     "output_type": "execute_result"
    }
   ],
   "source": [
    "print('Delta b equals:')\n",
    "Delta_b\n",
    "# Delta_b.subs([(e3,0.05),(e4,0.05)])"
   ]
  },
  {
   "cell_type": "markdown",
   "metadata": {
    "pycharm": {
     "name": "#%% md\n"
    }
   },
   "source": [
    "Because $\\varepsilon_j s$ are unknown and lie in interval of $(-0.05, 0.05)$ we will evaluate the solution by the maximum interval. Let us find epsilons, where sum of deltas $A$ and $b$ in terms of norm $|\\cdot|_1$ are maximum."
   ]
  },
  {
   "cell_type": "code",
   "execution_count": 102,
   "metadata": {},
   "outputs": [
    {
     "name": "stdout",
     "output_type": "stream",
     "text": [
      "(0.025054945054945058, 0.04, -0.05, -0.05, -0.05)\n"
     ]
    }
   ],
   "source": [
    "from operator import itemgetter\n",
    "\n",
    "delta_1_Ab_list = []\n",
    "for eps1 in np.arange(-0.05,0.05, 0.01).round(2):\n",
    "    for eps2 in np.arange(-0.05,0.05, 0.01).round(2):\n",
    "        for eps3 in np.arange(-0.05,0.05, 0.01).round(2):\n",
    "            for eps4 in np.arange(-0.05,0.05, 0.01).round(2):\n",
    "                Delta_b_new = Delta_b.subs([(e3,eps3),(e4,eps4)])\n",
    "                Delta_b_new = np.array(Delta_b_new).astype(np.float64)\n",
    "                Delta_A_new = Delta_A.subs([(e1, eps1),(e2,eps2)])\n",
    "                Delta_A_new = np.array(Delta_A_new).astype(np.float64)\n",
    "                \n",
    "                delta_1_b = np.sum(np.abs(Delta_b_new))/np.sum(np.abs(b))\n",
    "                delta_1_A = max(np.sum(np.absolute(Delta_A_new),axis=0))/max(np.sum(np.absolute(A),axis=0))\n",
    "                delta_1_Ab = delta_1_A + delta_1_b\n",
    "                \n",
    "                delta_1_Ab_list.append((delta_1_Ab,eps1,eps2,eps3,eps4))\n",
    "\n",
    "print(max(delta_1_Ab_list,key=itemgetter(1)))"
   ]
  },
  {
   "cell_type": "markdown",
   "metadata": {},
   "source": [
    "So, as we can see\n",
    "$$\\varepsilon_1 = 0.04$$\n",
    "$$\\varepsilon_2 = -0.05$$\n",
    "$$\\varepsilon_3 = -0.05$$\n",
    "$$\\varepsilon_4 = -0.05$$\n",
    "Let us substitute these epsilons into $A$ and $b$.\n",
    "We got:"
   ]
  },
  {
   "cell_type": "code",
   "execution_count": 103,
   "metadata": {
    "pycharm": {
     "name": "#%%\n"
    }
   },
   "outputs": [
    {
     "data": {
      "text/latex": [
       "$\\displaystyle \\left[\\begin{matrix}0.04 & -0.1\\\\0 & 0.04\\end{matrix}\\right]$"
      ],
      "text/plain": [
       "Matrix([\n",
       "[0.04, -0.1],\n",
       "[   0, 0.04]])"
      ]
     },
     "execution_count": 103,
     "metadata": {},
     "output_type": "execute_result"
    }
   ],
   "source": [
    "Delta_A = Delta_A.subs([(e1,0.04),(e2,-0.05)])\n",
    "Delta_A"
   ]
  },
  {
   "cell_type": "code",
   "execution_count": 104,
   "metadata": {
    "pycharm": {
     "name": "#%%\n"
    }
   },
   "outputs": [
    {
     "data": {
      "text/latex": [
       "$\\displaystyle \\left[\\begin{matrix}-0.05 & -0.05\\end{matrix}\\right]$"
      ],
      "text/plain": [
       "Matrix([[-0.05, -0.05]])"
      ]
     },
     "execution_count": 104,
     "metadata": {},
     "output_type": "execute_result"
    }
   ],
   "source": [
    "Delta_b = Delta_b.subs([(e3,-0.05),(e4,-0.05)])\n",
    "Delta_b"
   ]
  },
  {
   "cell_type": "markdown",
   "metadata": {},
   "source": [
    "For $|\\cdot|_1$:"
   ]
  },
  {
   "cell_type": "code",
   "execution_count": 105,
   "metadata": {
    "pycharm": {
     "name": "#%%\n"
    }
   },
   "outputs": [
    {
     "name": "stdout",
     "output_type": "stream",
     "text": [
      "delta_1_A:  0.0107692307692308\n",
      "delta_1_b:  0.0142857142857143\n"
     ]
    }
   ],
   "source": [
    "delta_1_b = np.sum(np.abs(Delta_b))/np.sum(np.abs(b))\n",
    "delta_1_A = max(np.sum(np.absolute(Delta_A),axis=0))/max(np.sum(np.absolute(A),axis=0))\n",
    "print('delta_1_A: ', delta_1_A)\n",
    "print('delta_1_b: ', delta_1_b)"
   ]
  },
  {
   "cell_type": "markdown",
   "metadata": {
    "pycharm": {
     "name": "#%% md\n"
    }
   },
   "source": [
    "$$\\delta_1 A =\\frac{|\\Delta A|_1}{|A|_1}\\approx \\frac{|\\Delta A|_1}{|\\hat{A}|_1} = \\frac{0.14}{13}= 0.010769$$\n",
    "$$\\delta_1 b =\\frac{|\\Delta b|_1}{|b|_1}\\approx \\frac{|\\Delta b|_1}{|\\hat{b}|_1} = \\frac{0.1}{7}= 0.0142857$$"
   ]
  },
  {
   "cell_type": "markdown",
   "metadata": {},
   "source": [
    "For $|\\cdot|_2$:"
   ]
  },
  {
   "cell_type": "code",
   "execution_count": 106,
   "metadata": {
    "pycharm": {
     "name": "#%%\n"
    }
   },
   "outputs": [
    {
     "name": "stdout",
     "output_type": "stream",
     "text": [
      "delta_2_A:  0.009073692040505031\n",
      "delta_2_b:  0.014142135623730952\n"
     ]
    }
   ],
   "source": [
    "Delta_b_new = np.array(Delta_b).astype(np.float64)\n",
    "delta_2_b = np.sqrt(np.sum(Delta_b_new**2))/np.sqrt(np.sum(b**2))\n",
    "Delta_A_new = np.array(Delta_A).astype(np.float64)\n",
    "\n",
    "dAdA = Delta_A_new.T @ Delta_A_new\n",
    "_,singval_dAdA,_ = np.linalg.svd(dAdA)\n",
    "delta_2_A = np.sqrt(max(singval_dAdA)/max(singval))\n",
    "print('delta_2_A: ', delta_2_A)\n",
    "print('delta_2_b: ', delta_2_b)"
   ]
  },
  {
   "cell_type": "markdown",
   "metadata": {},
   "source": [
    "For $\\delta_2 A$ we find $\\Delta A^* \\Delta A$ and then:  \n",
    "\n",
    "$$\\delta_2 A =\\frac{|\\Delta A|_2}{|A|_2}\\approx \\frac{|\\Delta A|_2}{|\\hat{A}|_2} =\\frac{\\sigma_1 (\\Delta A)}{\\sigma_1 (A)} = \\frac{\\sqrt{0.013003}}{\\sqrt{157.9354}}= 0.00907$$\n",
    "$$\\delta_2 b =\\frac{|\\Delta b|_2}{|b|_2}\\approx \\frac{|\\Delta b|_2}{|\\hat{b}|_2} = \\frac{\\sqrt{0.05^2+0.05^2}}{\\sqrt{3^2+4^2}}= 0.014142$$"
   ]
  },
  {
   "cell_type": "markdown",
   "metadata": {},
   "source": [
    "For $|\\cdot|_{\\infty}$:"
   ]
  },
  {
   "cell_type": "code",
   "execution_count": 107,
   "metadata": {
    "pycharm": {
     "name": "#%%\n"
    }
   },
   "outputs": [
    {
     "name": "stdout",
     "output_type": "stream",
     "text": [
      "delta_inf_A:  0.00875000000000000\n",
      "delta_inf_b:  0.0125000000000000\n"
     ]
    }
   ],
   "source": [
    "delta_inf_b = np.max(np.abs(Delta_b))/np.max(np.abs(b))\n",
    "delta_inf_A = max(np.sum(np.absolute(Delta_A),axis=1))/max(np.sum(np.absolute(A),axis=1))\n",
    "print('delta_inf_A: ', delta_inf_A)\n",
    "print('delta_inf_b: ', delta_inf_b)"
   ]
  },
  {
   "cell_type": "markdown",
   "metadata": {},
   "source": [
    "$$\\delta_{\\infty} A =\\frac{|\\Delta A|_{\\infty}}{|A|_{\\infty}}\\approx \\frac{|\\Delta A|_{\\infty}}{|\\hat{A}|_{\\infty}} = \\frac{0.14}{16}= 0.00875$$\n",
    "$$\\delta_{\\infty} b =\\frac{|\\Delta b|_{\\infty}}{|b|_{\\infty}}\\approx \\frac{|\\Delta b|_{\\infty}}{|\\hat{b}|_{\\infty}} = \\frac{0.05}{4}= 0.0125$$"
   ]
  },
  {
   "cell_type": "markdown",
   "metadata": {},
   "source": [
    "Let's check the relative errors of solutions in our norms."
   ]
  },
  {
   "cell_type": "code",
   "execution_count": 108,
   "metadata": {},
   "outputs": [
    {
     "name": "stdout",
     "output_type": "stream",
     "text": [
      "Error 1 upper bound: 0.236883116883117\n",
      "\n",
      "Error 2 upper bound: 0.16666374325748184\n",
      "\n",
      "Error Inf upper bound: 0.200909090909091\n"
     ]
    }
   ],
   "source": [
    "norm1_upper_bound = chi_1*(delta_1_b+delta_1_A)\n",
    "norm2_upper_bound = chi_2*(delta_2_b+delta_2_A)\n",
    "norm_inf_upper_bound = chi_inf*(delta_inf_b+delta_inf_A)\n",
    "\n",
    "print(\"\"\"Error 1 upper bound: {}\\n\n",
    "Error 2 upper bound: {}\\n\n",
    "Error Inf upper bound: {}\"\"\".format(norm1_upper_bound,\n",
    "                                   norm2_upper_bound,\n",
    "                                   norm_inf_upper_bound))"
   ]
  },
  {
   "cell_type": "markdown",
   "metadata": {},
   "source": [
    "### Answer:\n",
    "Approximate solution:\n",
    "$$\\hat{x} = \\begin{pmatrix} -\\frac{6}{11} \\\\\\frac{31}{22}\\end{pmatrix} \\approx \\begin{pmatrix} -0.54 \\\\1.41\\end{pmatrix}$$\n",
    "Relative errors:\n",
    "$$\\delta_{1} x \\leq 0.236883$$\n",
    "$$\\delta_{2} x \\leq 0.166663$$\n",
    "$$\\delta_{\\infty} x \\leq 0.200909$$"
   ]
  },
  {
   "cell_type": "markdown",
   "metadata": {
    "pycharm": {
     "name": "#%% md\n"
    }
   },
   "source": [
    "### 4. Find the approximate inverse matrix to the matrix $A$ and evaluate the approximation error with respect to the uniform norm $||\\cdot||_1$, if the elements of the matrix $A$ are known with an absolute error of 0.01:\n",
    "$$A \\approx \\begin{pmatrix}-7 & 2\\\\-4 & 6\\end{pmatrix}$$"
   ]
  },
  {
   "cell_type": "markdown",
   "metadata": {},
   "source": [
    "### Solution:\n",
    "$$A \\approx \\begin{pmatrix}-7 & 2\\\\-4 & 6\\end{pmatrix}$$\n",
    "$$\\hat{A} = \\begin{pmatrix}-7 & 2\\\\-4 & 6\\end{pmatrix}, \\varepsilon = 0.01$$\n",
    "\n",
    "The real matrix $A$ looks like\n",
    "$$A = \\begin{pmatrix}-7 & 2\\\\-4 & 6\\end{pmatrix}+\\begin{pmatrix}\\varepsilon_{11} & \\varepsilon_{12}\\\\\\varepsilon_{21} & \\varepsilon_{22}\\end{pmatrix},$$\n",
    "where $|\\varepsilon_{ij}|\\leq0.01$\n",
    "\n",
    "Let us find inverse matrix of A.\n",
    "$$\\hat{A}^{-1} = \\frac{1}{det \\hat A}\\begin{pmatrix}6 & -2\\\\4 & -7\\end{pmatrix}=\\frac{1}{-34}\\begin{pmatrix}6 & -2\\\\4 & -7\\end{pmatrix}=\\,=\\begin{pmatrix}-0.1765 & 0.0588\\\\-0.1176 & 0.2059\\end{pmatrix}$$"
   ]
  },
  {
   "cell_type": "code",
   "execution_count": 109,
   "metadata": {
    "pycharm": {
     "name": "#%%\n"
    }
   },
   "outputs": [
    {
     "data": {
      "text/plain": [
       "array([[-0.17647059,  0.05882353],\n",
       "       [-0.11764706,  0.20588235]])"
      ]
     },
     "execution_count": 109,
     "metadata": {},
     "output_type": "execute_result"
    }
   ],
   "source": [
    "# Let us check it\n",
    "A_4 = np.array([[-7,2],[-4,6]])\n",
    "A_4_inv = np.linalg.inv(A_4)\n",
    "A_4_inv\n",
    "# yep, that's it"
   ]
  },
  {
   "cell_type": "markdown",
   "metadata": {
    "pycharm": {
     "name": "#%% md\n"
    }
   },
   "source": [
    "Let us find next the conditional number $\\chi$ in norm $|\\cdot|_1$.  \n",
    "And let us assume that $\\chi (A) \\approx \\chi(\\hat A)$"
   ]
  },
  {
   "cell_type": "markdown",
   "metadata": {
    "pycharm": {
     "name": "#%% md\n"
    }
   },
   "source": [
    "$$\\chi_1(A) \\approx \\chi(\\hat{A}) \\approx ||\\hat{A}||_1\\cdot||\\hat A^{-1}||_1=max\\{11,6\\}\\cdot max\\{0.294, 0.264\\} = 11 \\cdot 0.294 = 3.234\n",
    "$$"
   ]
  },
  {
   "cell_type": "markdown",
   "metadata": {
    "pycharm": {
     "name": "#%% md\n"
    }
   },
   "source": [
    "So,\n",
    "$$ \\delta A^{-1} \\leq \\frac{\\chi(\\hat A) \\delta \\varepsilon}{1-\\chi (\\hat A)\\delta \\epsilon}, \\delta \\varepsilon = \\frac {||\\varepsilon||}{||\\hat A||}$$"
   ]
  },
  {
   "cell_type": "markdown",
   "metadata": {},
   "source": [
    "In our case with norm $|\\cdot|_1$ we have:  \n",
    "$$\\delta \\varepsilon = \\frac {||\\varepsilon||_1}{||\\hat A||_1}=\\frac {max\\{0.2,0.2\\}}{11}=0.0182$$\n",
    "Approximation error:\n",
    "$$ \\delta A^{-1} \\leq \\frac{\\chi_1(\\hat A) \\delta \\varepsilon}{1-\\chi_1 (\\hat A)\\delta \\varepsilon}=\\frac{3.234\\cdot0.0182}{1-3.234*0.0182}=\\frac{0.05886}{0.94114}=0.062541$$"
   ]
  },
  {
   "cell_type": "markdown",
   "metadata": {
    "pycharm": {
     "name": "#%% md\n"
    }
   },
   "source": [
    "### Answer:\n",
    "$$A^{-1} \\approx \\begin{pmatrix}-0.1765 & 0.0588\\\\-0.1176 & 0.2059\\end{pmatrix}$$\n",
    "$$ \\delta A^{-1} \\leq 0.062541$$"
   ]
  },
  {
   "cell_type": "markdown",
   "metadata": {
    "collapsed": true,
    "pycharm": {
     "is_executing": true,
     "name": "#%% md\n"
    }
   },
   "source": [
    "### 5. Use simple iteration method for finding the solution of the given linear system.\n",
    "$$ \n",
    "\\begin{cases} 20x+4y+6z=4, \\\\ 3x+21y+7z=2, \\\\ 2x+9y+27z=5. \\end{cases}\n",
    "$$\n",
    "\n",
    "### Determine the iteration number after which the approximation error for each coordinate does not exceed 0.01 and find the corresponding approximate solution. Start with $x_0 = [0, 0, 0]^T$."
   ]
  },
  {
   "cell_type": "markdown",
   "metadata": {},
   "source": [
    "### Solution:"
   ]
  },
  {
   "cell_type": "markdown",
   "metadata": {
    "pycharm": {
     "name": "#%% md\n"
    }
   },
   "source": [
    "So we have matrix A and vector b.\n",
    "$$A = \\begin{pmatrix}20 & 4 & 6\\\\3 & 21 & 7\\\\ 2 & 9 & 27\\end{pmatrix}$$\n",
    "$$B = \\begin{pmatrix}4\\\\2\\\\5\\end{pmatrix}$$"
   ]
  },
  {
   "cell_type": "markdown",
   "metadata": {},
   "source": [
    "Let us bring our system of linear equations to the next form:\n",
    "$$ x_{k+1} = P x_k+\\bar b, $$\n",
    "where $P=E-CA$ and $\\bar b = CB$.  \n",
    "We need to choose such $C$ that our iteration process converges, i.e. $||P||<1$.  \n",
    "All calculations will be in terms of norm $|\\cdot|_{\\infty}$."
   ]
  },
  {
   "cell_type": "code",
   "execution_count": 110,
   "metadata": {
    "pycharm": {
     "name": "#%%\n"
    }
   },
   "outputs": [],
   "source": [
    "A = np.array([[20,4,6],[3,21,7],[2,9,27]])\n",
    "\n",
    "B = np.array([4,2,5])\n",
    "\n",
    "epsilon = 0.01 "
   ]
  },
  {
   "cell_type": "markdown",
   "metadata": {},
   "source": [
    "Let us find this matrix $C$, matrix $P$ and vector $b$.  \n",
    "$C = \\begin{pmatrix}\\frac{1}{20} & 0 & 0\\\\0 & \\frac{1}{21} & 0\\\\ 0 & 0 & \\frac{1}{27}\\end{pmatrix}$  \n",
    "$P = E-CA = \\begin{pmatrix} 1 & 0 & 0\\\\0 & 1 & 0\\\\ 0 & 0 & 1\\end{pmatrix}-\\begin{pmatrix}\\frac{1}{20} & 0 & 0\\\\0 & \\frac{1}{21} & 0\\\\ 0 & 0 & \\frac{1}{27}\\end{pmatrix}\\cdot\\begin{pmatrix}20 & 4 & 6\\\\3 & 21 & 7\\\\ 2 & 9 & 27\\end{pmatrix}$  \n",
    "Its norm will be $||P||_{\\infty}=0.5<1$. It means that iteration process converges.  \n",
    "$b = CB = \\begin{pmatrix}\\frac{1}{20} & 0 & 0\\\\ 0 & \\frac{1}{21} & 0\\\\ 0 & 0 & \\frac{1}{27}\\end{pmatrix}\\cdot \\begin{pmatrix}4\\\\2\\\\5\\end{pmatrix}= \\begin{pmatrix}0.2\\\\0.0952381\\\\0.185185\\end{pmatrix}$"
   ]
  },
  {
   "cell_type": "code",
   "execution_count": 111,
   "metadata": {},
   "outputs": [
    {
     "name": "stdout",
     "output_type": "stream",
     "text": [
      "P:\n",
      " [[ 0.         -0.2        -0.3       ]\n",
      " [-0.14285714  0.         -0.33333333]\n",
      " [-0.07407407 -0.33333333  0.        ]]\n",
      "b:\n",
      " [0.2        0.0952381  0.18518519]\n",
      "Norm_infinity of Matrix P: 0.5\n"
     ]
    }
   ],
   "source": [
    "C = np.array([[1/20, 0, 0],[0, 1/21, 0],[0, 0, 1/27]])\n",
    "I = np.eye(3)\n",
    "\n",
    "P = I - np.matmul(C, A)\n",
    "b = np.matmul(C,B)\n",
    "# Norm_infinity of Matrix\n",
    "P_norm = max(np.sum(np.absolute(P),axis=1)) # 0.5 < 1 -> converges\n",
    "print('P:\\n', P)\n",
    "print('b:\\n', b)\n",
    "print('Norm_infinity of Matrix P: {}'.format(P_norm))"
   ]
  },
  {
   "cell_type": "markdown",
   "metadata": {},
   "source": [
    "In purpose to find the number of iterations of the process we will use priori condition:\n",
    "$$ m \\geq \\frac{ln(\\frac{\\varepsilon(1-||P||_{\\infty})}\n",
    "{||x^{(1)}-x^{(0)}||_{\\infty}})}{ln ||P||_{\\infty}}$$  \n",
    "$$||x^{(1)}-x^{(0)}||_{\\infty}==||b||_{\\infty} = ||(0.2,\\, 0.0952381,\\, 0.18518519)^T||_{\\infty}=0.2$$  \n",
    "$$ m \\geq \\frac{ln(\\frac{0.01*0.5)}{0.2})}{ln 0.5}=5.32$$\n",
    "Let us do the iteration process with number of iterations of 6 using this formula:\n",
    "$$ x_{k+1} = P x_k+\\bar b$$"
   ]
  },
  {
   "cell_type": "code",
   "execution_count": 112,
   "metadata": {
    "pycharm": {
     "name": "#%%\n"
    }
   },
   "outputs": [
    {
     "name": "stdout",
     "output_type": "stream",
     "text": [
      "5.321928094887363\n",
      "Number of iterations: 6\n",
      "[0.2        0.0952381  0.18518519]\n",
      "[0.12539683 0.00493827 0.13862434]\n",
      "[0.15742504 0.03111615 0.17425044]\n",
      "[0.14150164 0.01466532 0.16315202]\n",
      "[0.14812133 0.02063957 0.16981514]\n",
      "[0.14492754 0.01747286 0.16733338]\n",
      "\n",
      "Solution: [0.14492754 0.01747286 0.16733338]\n"
     ]
    }
   ],
   "source": [
    "# Initial and next values of x \n",
    "x_0 = np.array([0,0,0])\n",
    "x_1 = np.matmul(P, x_0) + b\n",
    "\n",
    "# Norm_infinity of Vector\n",
    "norm_diff = np.max(np.abs(x_1 - x_0))\n",
    "#apriori condition\n",
    "m = np.log(epsilon*(1-P_norm)/norm_diff)/np.log(P_norm)\n",
    "print(m)\n",
    "print('Number of iterations: {:.0f}'.format(m+1))\n",
    "\n",
    "#loop with number of iterations = 6\n",
    "x = x_0\n",
    "for i in range(int(m)+1):\n",
    "    x = np.matmul(P, x) + b\n",
    "    print(x)\n",
    "#     print('$$x_{}={}^T$$'.format(i+1, sp.latex(sp.Matrix(x.round(4)).T)))\n",
    "    \n",
    "print('\\nSolution: {}'.format(x))"
   ]
  },
  {
   "cell_type": "markdown",
   "metadata": {},
   "source": [
    "$$x_1=\\left[\\begin{matrix}0.2 & 0.0952 & 0.1852\\end{matrix}\\right]^T$$\n",
    "$$x_2=\\left[\\begin{matrix}0.1254 & 0.0049 & 0.1386\\end{matrix}\\right]^T$$\n",
    "$$x_3=\\left[\\begin{matrix}0.1574 & 0.0311 & 0.1743\\end{matrix}\\right]^T$$\n",
    "$$x_4=\\left[\\begin{matrix}0.1415 & 0.0147 & 0.1632\\end{matrix}\\right]^T$$\n",
    "$$x_5=\\left[\\begin{matrix}0.1481 & 0.0206 & 0.1698\\end{matrix}\\right]^T$$\n",
    "$$x_6=\\left[\\begin{matrix}0.1449 & 0.0175 & 0.1673\\end{matrix}\\right]^T$$"
   ]
  },
  {
   "cell_type": "markdown",
   "metadata": {},
   "source": [
    "### Answer:\n",
    "$$x_{ans}=\\left[\\begin{matrix}0.1449 & 0.0175 & 0.1673\\end{matrix}\\right]^T$$"
   ]
  },
  {
   "cell_type": "markdown",
   "metadata": {
    "pycharm": {
     "name": "#%% md\n"
    }
   },
   "source": [
    "### 6. Find the most influential vertex in the graph:\n",
    "$$A = \\left[\\begin{matrix}1 & 1 & 1 & 0 & 0\\\\1 & 0 & 0 & 0 & 1\\\\1 & 1 & 0 & 0 & 1\\\\1 & 0 & 1 & 1 & 1\\\\1 & 0 & 0 & 0 & 0\\end{matrix}\\right]$$\n",
    "### using the PageRank algorithm with $β = 0.15$, where the graph adjacency matrix is defined as follows"
   ]
  },
  {
   "cell_type": "code",
   "execution_count": 113,
   "metadata": {
    "pycharm": {
     "name": "#%%\n"
    }
   },
   "outputs": [],
   "source": [
    "A = np.array([[1, 1, 1, 0, 0],\n",
    "              [1, 0, 0, 0, 1],\n",
    "              [1, 1, 0, 0, 1],\n",
    "              [1, 0, 1, 1, 1],\n",
    "              [1, 0, 0, 0, 0]])"
   ]
  },
  {
   "cell_type": "markdown",
   "metadata": {
    "pycharm": {
     "name": "#%% md\n"
    }
   },
   "source": [
    "Let us build matrix of possibilities $P$."
   ]
  },
  {
   "cell_type": "code",
   "execution_count": 114,
   "metadata": {
    "pycharm": {
     "name": "#%%\n"
    }
   },
   "outputs": [
    {
     "data": {
      "text/latex": [
       "$\\displaystyle \\left[\\begin{matrix}0.333 & 0.333 & 0.333 & 0.0 & 0.0\\\\0.5 & 0.0 & 0.0 & 0.0 & 0.5\\\\0.333 & 0.333 & 0.0 & 0.0 & 0.333\\\\0.25 & 0.0 & 0.25 & 0.25 & 0.25\\\\1.0 & 0.0 & 0.0 & 0.0 & 0.0\\end{matrix}\\right]$"
      ],
      "text/plain": [
       "Matrix([\n",
       "[0.333, 0.333, 0.333,  0.0,   0.0],\n",
       "[  0.5,   0.0,   0.0,  0.0,   0.5],\n",
       "[0.333, 0.333,   0.0,  0.0, 0.333],\n",
       "[ 0.25,   0.0,  0.25, 0.25,  0.25],\n",
       "[  1.0,   0.0,   0.0,  0.0,   0.0]])"
      ]
     },
     "execution_count": 114,
     "metadata": {},
     "output_type": "execute_result"
    }
   ],
   "source": [
    "P = np.array([A[0]/3, A[1]/2, A[2]/3, A[3]/4, A[4]/1])\n",
    "sp.Matrix(P.round(3))"
   ]
  },
  {
   "cell_type": "markdown",
   "metadata": {
    "pycharm": {
     "name": "#%% md\n"
    }
   },
   "source": [
    "Now, let us build matrix $Q$ in order to find matrix $\\hat P$.  \n",
    "\n",
    "$$\\hat P = P\\cdot(1-\\beta)+Q\\cdot\\beta,$$\n",
    "where $\\beta = 0.15$"
   ]
  },
  {
   "cell_type": "code",
   "execution_count": 115,
   "metadata": {
    "pycharm": {
     "name": "#%%\n"
    }
   },
   "outputs": [
    {
     "data": {
      "text/latex": [
       "$\\displaystyle \\left[\\begin{matrix}0.313333333333333 & 0.313333333333333 & 0.313333333333333 & 0.03 & 0.03\\\\0.455 & 0.03 & 0.03 & 0.03 & 0.455\\\\0.313333333333333 & 0.313333333333333 & 0.03 & 0.03 & 0.313333333333333\\\\0.2425 & 0.03 & 0.2425 & 0.2425 & 0.2425\\\\0.88 & 0.03 & 0.03 & 0.03 & 0.03\\end{matrix}\\right]$"
      ],
      "text/plain": [
       "Matrix([\n",
       "[0.313333333333333, 0.313333333333333, 0.313333333333333,   0.03,              0.03],\n",
       "[            0.455,              0.03,              0.03,   0.03,             0.455],\n",
       "[0.313333333333333, 0.313333333333333,              0.03,   0.03, 0.313333333333333],\n",
       "[           0.2425,              0.03,            0.2425, 0.2425,            0.2425],\n",
       "[             0.88,              0.03,              0.03,   0.03,              0.03]])"
      ]
     },
     "execution_count": 115,
     "metadata": {},
     "output_type": "execute_result"
    }
   ],
   "source": [
    "n = 5\n",
    "\n",
    "Q = np.ones((5,5))/n\n",
    "\n",
    "beta = 0.15\n",
    "\n",
    "P_hat = P * (1 - beta) + Q * beta\n",
    "\n",
    "sp.Matrix(P_hat)"
   ]
  },
  {
   "cell_type": "markdown",
   "metadata": {},
   "source": [
    "We will begin with $X_0$ with equal possibilities.\n",
    "$$X_0 = \\left[\\begin{matrix}0.2\\\\0.2\\\\0.2\\\\0.2\\\\0.2\\end{matrix}\\right]$$\n",
    "Iteration will process until the difference between $x_{i+1}$ and $x_{i}$ will be small enough ($\\varepsilon=0.001$)."
   ]
  },
  {
   "cell_type": "code",
   "execution_count": 116,
   "metadata": {},
   "outputs": [
    {
     "name": "stdout",
     "output_type": "stream",
     "text": [
      "[0.4408 0.1433 0.1292 0.0725 0.2142]\n",
      "[0.4499 0.1915 0.1703 0.0454 0.1429]\n",
      "[0.4182 0.2057 0.1671 0.0396 0.1693]\n",
      "[0.4356 0.1958 0.1569 0.0384 0.1732]\n",
      "[0.4365 0.1979 0.1616 0.0382 0.1659]\n",
      "[0.4327 0.1995 0.1618 0.0381 0.168 ]\n",
      "[0.4341 0.1984 0.1607 0.0381 0.1687]\n",
      "[0.4343 0.1985 0.1611 0.0381 0.168 ]\n"
     ]
    }
   ],
   "source": [
    "x = np.ones(5)/n\n",
    "cond = True\n",
    "i = 1\n",
    "while cond:\n",
    "    x_new = np.matmul(P_hat.T, x)\n",
    "    print(x_new.round(4))\n",
    "#     print('$$x_{}={}^T$$'.format(i,sp.latex(sp.Matrix(x_new.round(4)).T)))\n",
    "    diff = x_new - x\n",
    "    if (diff < 0.001).all():\n",
    "        cond = False\n",
    "    x = x_new\n",
    "    i += 1"
   ]
  },
  {
   "cell_type": "markdown",
   "metadata": {},
   "source": [
    "$$x_1=\\left[\\begin{matrix}0.4408 & 0.1433 & 0.1292 & 0.0725 & 0.2142\\end{matrix}\\right]^T$$\n",
    "\n",
    "$$x_2=\\left[\\begin{matrix}0.4499 & 0.1915 & 0.1703 & 0.0454 & 0.1429\\end{matrix}\\right]^T$$\n",
    "\n",
    "$$x_3=\\left[\\begin{matrix}0.4182 & 0.2057 & 0.1671 & 0.0396 & 0.1693\\end{matrix}\\right]^T$$\n",
    "\n",
    "$$x_4=\\left[\\begin{matrix}0.4356 & 0.1958 & 0.1569 & 0.0384 & 0.1732\\end{matrix}\\right]^T$$\n",
    "\n",
    "$$x_5=\\left[\\begin{matrix}0.4365 & 0.1979 & 0.1616 & 0.0382 & 0.1659\\end{matrix}\\right]^T$$\n",
    "\n",
    "$$x_6=\\left[\\begin{matrix}0.4327 & 0.1995 & 0.1618 & 0.0381 & 0.168\\end{matrix}\\right]^T$$\n",
    "\n",
    "$$x_7=\\left[\\begin{matrix}0.4341 & 0.1984 & 0.1607 & 0.0381 & 0.1687\\end{matrix}\\right]^T$$\n",
    "\n",
    "$$x_8=\\left[\\begin{matrix}0.4343 & 0.1985 & 0.1611 & 0.0381 & 0.168\\end{matrix}\\right]^T$$"
   ]
  },
  {
   "cell_type": "markdown",
   "metadata": {},
   "source": [
    "### Answer:\n",
    "So the most infuential vertex in this Graph is vertex $1$ with possibility $P=0.4343$."
   ]
  },
  {
   "cell_type": "markdown",
   "metadata": {
    "pycharm": {
     "name": "#%% md\n"
    }
   },
   "source": [
    "### 7. Find the value $f(A)$ of the function $f(l) = ln(l + 4)$, where\n",
    "$$A = \\left[\\begin{matrix}9 & -5 & -6\\\\-21 & 16 & 17\\\\24 & -15 & -17\\end{matrix}\\right]$$"
   ]
  },
  {
   "cell_type": "markdown",
   "metadata": {},
   "source": [
    "### Solution:\n",
    "Because our function looks like $f(l) = ln(l + 4)$ we can calculate $\\hat A = A + I*4$."
   ]
  },
  {
   "cell_type": "code",
   "execution_count": 117,
   "metadata": {
    "pycharm": {
     "name": "#%%\n"
    }
   },
   "outputs": [
    {
     "data": {
      "text/latex": [
       "$\\displaystyle \\left[\\begin{matrix}13.0 & -5.0 & -6.0\\\\-21.0 & 20.0 & 17.0\\\\24.0 & -15.0 & -13.0\\end{matrix}\\right]$"
      ],
      "text/plain": [
       "Matrix([\n",
       "[ 13.0,  -5.0,  -6.0],\n",
       "[-21.0,  20.0,  17.0],\n",
       "[ 24.0, -15.0, -13.0]])"
      ]
     },
     "execution_count": 117,
     "metadata": {},
     "output_type": "execute_result"
    }
   ],
   "source": [
    "A = np.array([[9, -5, -6],\n",
    "              [-21, 16, 17],\n",
    "              [24, -15, -17]])\n",
    "A = A + np.eye(3)*4\n",
    "\n",
    "A_hat = sp.Matrix(A)\n",
    "A_hat"
   ]
  },
  {
   "cell_type": "markdown",
   "metadata": {
    "pycharm": {
     "name": "#%% md\n"
    }
   },
   "source": [
    "Now our task is to find $f(\\hat A)$.  \n",
    "As we know, $$\\hat A = T\\cdot J \\cdot T_T,$$\n",
    "where $T$ is a transform matrix which consists of eigenvectors of matrix $\\hat A$ and $J$ is a Jordan matrix, which consists of eigenvalues. So, at first let us find eigenvalues of our matrix."
   ]
  },
  {
   "cell_type": "code",
   "execution_count": 118,
   "metadata": {
    "pycharm": {
     "name": "#%%\n"
    }
   },
   "outputs": [
    {
     "data": {
      "text/latex": [
       "$\\displaystyle \\left[\\begin{matrix}13.0 - \\lambda & -5.0 & -6.0\\\\-21.0 & 20.0 - \\lambda & 17.0\\\\24.0 & -15.0 & - \\lambda - 13.0\\end{matrix}\\right]$"
      ],
      "text/plain": [
       "Matrix([\n",
       "[13.0 - lambda,          -5.0,           -6.0],\n",
       "[        -21.0, 20.0 - lambda,           17.0],\n",
       "[         24.0,         -15.0, -lambda - 13.0]])"
      ]
     },
     "execution_count": 118,
     "metadata": {},
     "output_type": "execute_result"
    }
   ],
   "source": [
    "lmd = sp.symbols('lambda')\n",
    "A_hat_lmd = A_hat-sp.eye(3)*lmd\n",
    "A_hat_lmd"
   ]
  },
  {
   "cell_type": "markdown",
   "metadata": {},
   "source": [
    "$$\\lambda^{3} + 20.0 \\lambda^{2} - 125.0 \\lambda + 250.0 = (\\lambda-5)^2(\\lambda-10)=0$$"
   ]
  },
  {
   "cell_type": "code",
   "execution_count": 119,
   "metadata": {},
   "outputs": [
    {
     "data": {
      "text/plain": [
       "[5.00000000000000, 10.0000000000000]"
      ]
     },
     "execution_count": 119,
     "metadata": {},
     "output_type": "execute_result"
    }
   ],
   "source": [
    "sp.solve(A_hat_lmd.det())"
   ]
  },
  {
   "cell_type": "markdown",
   "metadata": {
    "pycharm": {
     "name": "#%% md\n"
    }
   },
   "source": [
    "So, after solving this cubic equations we can build Jordan Matrix.\n",
    "$$J = \\left[\\begin{matrix}5.0 & 1.0 & 0\\\\0 & 5.0 & 0\\\\0 & 0 & 10.0\\end{matrix}\\right]$$"
   ]
  },
  {
   "cell_type": "markdown",
   "metadata": {},
   "source": [
    "Now, let us find eigenvectors of this matrix.\n",
    "First vector of eigenvalue 5:\n",
    "$$(A-I\\cdot5)v=0$$"
   ]
  },
  {
   "cell_type": "code",
   "execution_count": 120,
   "metadata": {
    "pycharm": {
     "name": "#%%\n"
    }
   },
   "outputs": [
    {
     "data": {
      "text/latex": [
       "$\\displaystyle \\left\\{\\left( 0.333333333333333 v_{3}, \\  - 0.666666666666667 v_{3}, \\  v_{3}\\right)\\right\\}$"
      ],
      "text/plain": [
       "FiniteSet((0.333333333333333*v3, -0.666666666666667*v3, v3))"
      ]
     },
     "execution_count": 120,
     "metadata": {},
     "output_type": "execute_result"
    }
   ],
   "source": [
    "from sympy import *\n",
    "x1, x2, x3 = sp.symbols('v1, v2, v3')\n",
    "b = sp.Matrix([0, 0, 0])\n",
    "\n",
    "# first lambda = 5 first vector\n",
    "A_hat_5_1 = A_hat-sp.eye(3)*5\n",
    "A_hat_5_1\n",
    "system = (A_hat_5_1, b)\n",
    "linsolve(system, (x1, x2, x3))"
   ]
  },
  {
   "cell_type": "markdown",
   "metadata": {
    "pycharm": {
     "name": "#%% md\n"
    }
   },
   "source": [
    "So, let us take $v_3 = 9$. \n",
    "$$v_1=(3,-6,9)^T$$"
   ]
  },
  {
   "cell_type": "markdown",
   "metadata": {
    "pycharm": {
     "name": "#%% md\n"
    }
   },
   "source": [
    "Let us find generalized second eigenvector for eigenvalue 5, because its degree equals 2, such that $v_2\\neq0$.\n",
    "$$(A-I\\cdot5)^2v_2=0$$"
   ]
  },
  {
   "cell_type": "code",
   "execution_count": 121,
   "metadata": {
    "pycharm": {
     "name": "#%%\n"
    }
   },
   "outputs": [
    {
     "data": {
      "text/latex": [
       "$\\displaystyle \\left\\{\\left( 1.0 v_{2} + 1.0 v_{3}, \\  v_{2}, \\  v_{3}\\right)\\right\\}$"
      ],
      "text/plain": [
       "FiniteSet((1.0*v2 + 1.0*v3, v2, v3))"
      ]
     },
     "execution_count": 121,
     "metadata": {},
     "output_type": "execute_result"
    }
   ],
   "source": [
    "# first lambda = 5 second vector\n",
    "A_hat_5_2 = (A_hat-sp.eye(3)*5)**2\n",
    "A_hat_5_2\n",
    "system = (A_hat_5_2, b)\n",
    "linsolve(system, (x1, x2, x3))"
   ]
  },
  {
   "cell_type": "markdown",
   "metadata": {
    "pycharm": {
     "name": "#%% md\n"
    }
   },
   "source": [
    "So, let us take $v_2 = 1$ and $v_3 = 0$. \n",
    "$$v_2=(1,1,0)^T$$"
   ]
  },
  {
   "cell_type": "markdown",
   "metadata": {},
   "source": [
    "Let us find eigenvector for eigenvalue 10.\n",
    "$$(A-I\\cdot10)v_3=0$$"
   ]
  },
  {
   "cell_type": "code",
   "execution_count": 122,
   "metadata": {},
   "outputs": [
    {
     "data": {
      "text/latex": [
       "$\\displaystyle \\left\\{\\left( 0.333333333333333 v_{3}, \\  - 1.0 v_{3}, \\  v_{3}\\right)\\right\\}$"
      ],
      "text/plain": [
       "FiniteSet((0.333333333333333*v3, -1.0*v3, v3))"
      ]
     },
     "execution_count": 122,
     "metadata": {},
     "output_type": "execute_result"
    }
   ],
   "source": [
    "# second lambda = 10\n",
    "A_hat_10 = A_hat-sp.eye(3)*10\n",
    "system = (A_hat_10, b)\n",
    "linsolve(system, (x1, x2, x3))"
   ]
  },
  {
   "cell_type": "markdown",
   "metadata": {},
   "source": [
    "So, let us take $v_3 = 1$. \n",
    "$$v_2=(\\frac{1}{3},-1,1)^T$$"
   ]
  },
  {
   "cell_type": "markdown",
   "metadata": {},
   "source": [
    "Now we can build transform matrix from these eigenvectors."
   ]
  },
  {
   "cell_type": "code",
   "execution_count": 123,
   "metadata": {
    "pycharm": {
     "name": "#%%\n"
    }
   },
   "outputs": [
    {
     "data": {
      "text/latex": [
       "$\\displaystyle \\left[\\begin{matrix}3 & 1 & 0.333333333333333\\\\-6 & 1 & -1\\\\9 & 0 & 1\\end{matrix}\\right]$"
      ],
      "text/plain": [
       "Matrix([\n",
       "[ 3, 1, 0.333333333333333],\n",
       "[-6, 1,                -1],\n",
       "[ 9, 0,                 1]])"
      ]
     },
     "execution_count": 123,
     "metadata": {},
     "output_type": "execute_result"
    }
   ],
   "source": [
    "T = sp.Matrix([[3,1,1/3],[-6,1,-1],[9,0,1]])\n",
    "T"
   ]
  },
  {
   "cell_type": "code",
   "execution_count": 124,
   "metadata": {
    "pycharm": {
     "name": "#%%\n"
    }
   },
   "outputs": [
    {
     "data": {
      "text/latex": [
       "$\\displaystyle \\left[\\begin{matrix}3.0 & 1.0 & 0.333333333333333\\\\-6.0 & 1.0 & -1.0\\\\9.0 & 0 & 1.0\\end{matrix}\\right]$"
      ],
      "text/plain": [
       "Matrix([\n",
       "[ 3.0, 1.0, 0.333333333333333],\n",
       "[-6.0, 1.0,              -1.0],\n",
       "[ 9.0,   0,               1.0]])"
      ]
     },
     "execution_count": 124,
     "metadata": {},
     "output_type": "execute_result"
    }
   ],
   "source": [
    "# check with library \n",
    "T, J = A_hat.jordan_form()\n",
    "T"
   ]
  },
  {
   "cell_type": "markdown",
   "metadata": {},
   "source": [
    "So, as we have found Jordan matrix and transform matrix, we can use this formula for estimating $log(A)$.\n",
    "$$f(A)=T\\cdot f(J) T^T,$$\n",
    "where $$f(J)=\\left[\\begin{matrix}\\frac{f(\\lambda_1)}{0!} &  \\frac{f'(\\lambda_1)}{1!} & 0\\\\0 & \\frac{f(\\lambda_1)}{0!}) & 0\\\\0 & 0 & f\\frac{f(\\lambda_2)}{0!})\\end{matrix}\\right]=\\left[\\begin{matrix} log(5) &  \\frac{1}{5} & 0\\\\0 & log(5) & 0\\\\0 & 0 & log(10)\\end{matrix}\\right]$$"
   ]
  },
  {
   "cell_type": "markdown",
   "metadata": {},
   "source": [
    "I wrote a function, which computes the degree of derivative of log(x).   \n",
    "\n",
    "Its input: substitution value and degree of derivative."
   ]
  },
  {
   "cell_type": "code",
   "execution_count": 125,
   "metadata": {
    "pycharm": {
     "name": "#%%\n"
    }
   },
   "outputs": [],
   "source": [
    "def ln_der(subs, deg):\n",
    "    x = sp.Symbol('x')\n",
    "    degn = 0\n",
    "    expr = lambda x: sp.ln(x)\n",
    "    diff = lambda f: sp.diff(f, x)\n",
    "    \n",
    "    if deg == 0:\n",
    "        func = expr(x)\n",
    "        f = sp.lambdify(x, expr(subs))\n",
    "        return f(subs)#, func \n",
    "    \n",
    "    while degn <= deg:\n",
    "        if degn == 0:\n",
    "            func = diff(expr(x))\n",
    "        else:\n",
    "            func = diff(func)\n",
    "        f = sp.lambdify(x, func/sp.factorial(deg))\n",
    "        degn += 1\n",
    "        \n",
    "    return f(subs)#, func/sp.factorial(deg)"
   ]
  },
  {
   "cell_type": "code",
   "execution_count": 126,
   "metadata": {
    "pycharm": {
     "name": "#%%\n"
    }
   },
   "outputs": [
    {
     "data": {
      "text/latex": [
       "$\\displaystyle \\left[\\begin{matrix}1.6094379124341 & -0.04 & 0\\\\0 & 1.6094379124341 & 0\\\\0 & 0 & 2.30258509299405\\end{matrix}\\right]$"
      ],
      "text/plain": [
       "Matrix([\n",
       "[1.6094379124341,           -0.04,                0],\n",
       "[              0, 1.6094379124341,                0],\n",
       "[              0,               0, 2.30258509299405]])"
      ]
     },
     "execution_count": 126,
     "metadata": {},
     "output_type": "execute_result"
    }
   ],
   "source": [
    "f_J = np.array([[ln_der(J[0],0),ln_der(J[0],1),0],\n",
    "                [0,ln_der(J[4],0),0],\n",
    "                [0,0,ln_der(J[8],0)]])\n",
    "sp.Matrix(f_J)"
   ]
  },
  {
   "cell_type": "markdown",
   "metadata": {},
   "source": [
    "As we found $f(J)$, now we can find $f(A)=T\\cdot f(J)\\cdot T^T$"
   ]
  },
  {
   "cell_type": "code",
   "execution_count": 127,
   "metadata": {
    "pycharm": {
     "name": "#%%\n"
    }
   },
   "outputs": [],
   "source": [
    "f_A = (T * f_J * T.inv()).evalf(4)\n",
    "# print(sp.latex(f_A))"
   ]
  },
  {
   "cell_type": "markdown",
   "metadata": {},
   "source": [
    "### Answer:\n",
    "$$f(A) = \\left[\\begin{matrix}2.183 & -0.6931 & -0.6531\\\\-1.839 & 3.689 & 1.999\\\\1.719 & -2.079 & -0.35\\end{matrix}\\right]$$"
   ]
  }
 ],
 "metadata": {
  "kernelspec": {
   "display_name": "Python 3",
   "language": "python",
   "name": "python3"
  },
  "language_info": {
   "codemirror_mode": {
    "name": "ipython",
    "version": 3
   },
   "file_extension": ".py",
   "mimetype": "text/x-python",
   "name": "python",
   "nbconvert_exporter": "python",
   "pygments_lexer": "ipython3",
   "version": "3.8.5"
  }
 },
 "nbformat": 4,
 "nbformat_minor": 1
}