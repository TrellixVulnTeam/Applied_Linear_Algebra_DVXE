{
 "cells": [
  {
   "cell_type": "markdown",
   "metadata": {},
   "source": [
    "## Applied Linear Algebra\n",
    "### Amantur Amatov Variant 3"
   ]
  },
  {
   "cell_type": "markdown",
   "metadata": {},
   "source": [
    "### 1. Find an interpolation polynomial in the Lagrange form that passes through the four points whose coordinates form the columns of the matrix\n",
    "$$P = \\begin{bmatrix} -3 & -1 & 1 & 2 \\\\ -8 & -2 & -2 & 13 \\end{bmatrix}$$\n"
   ]
  },
  {
   "cell_type": "markdown",
   "metadata": {},
   "source": [
    "### Solution:\n",
    "$$L(x) = \\sum_{i=0}^{n} y_{i} \\frac{\\prod_{i} (x - x_{j})}{\\prod_{j} (x_{i} - x_{j})} = \\frac{\\sum_{i=0}^n y_i v(x_0,...x_i,...,x_n)}{v(x_0,...,x_n)}$$\n",
    "\n",
    "$$\n",
    "L(x) = -8\\frac{(x+1)(x-1)(x-2)}{(-3+1)(-3-1)(-3-2)} - 2\\frac{(x+3)(x-1)(x-2)}{(-1+3)(-1-1)(-1-2)}-2\\frac{(x+3)(x+1)(x-2)}{(1+3)(1+1)(1-2)}+13\\frac{(x+3)(x+1)(x-1)}{(2+3)(2+1)(2-1)}=\\frac{x^3-2x^2-x+2}{5}-\\frac{x^3-7x+6}{6}+\\frac{x^3+2x^2-5x-6}{4}+\\frac{13(x^3+3x^2-x-3)}{15}=\\frac{6x^3-5x^3+7.5x^3+26x^3-12x^2+15x^2+78x^2-6x+35x-37.5x-26x+12-30-45-78}{30}=\\frac{23x^3}{20}+\\frac{27x^2}{10}-\\frac{23x}{20}-\\frac{47}{10}\n",
    "$$\n",
    "\n",
    "Answer:\n",
    "$$\n",
    "L(x) = \\frac{23x^3}{20}+\\frac{27x^2}{10}-\\frac{23x}{20}-\\frac{47}{10}\n",
    "$$\n",
    "\n",
    "### Implementation:"
   ]
  },
  {
   "cell_type": "code",
   "execution_count": null,
   "metadata": {
    "pycharm": {
     "is_executing": true
    }
   },
   "outputs": [],
   "source": [
    "import numpy as np\n",
    "import sympy as sp\n",
    "import matplotlib.pyplot as plt"
   ]
  },
  {
   "cell_type": "code",
   "execution_count": null,
   "metadata": {
    "pycharm": {
     "is_executing": true,
     "name": "#%%\n"
    }
   },
   "outputs": [],
   "source": [
    "P = np.array([[-3, -1, 1, 2],\n",
    "            [-8, -2, -2, 13]])\n",
    "X_array = P[0,:]\n",
    "Y_array = P[1,:]"
   ]
  },
  {
   "cell_type": "code",
   "execution_count": null,
   "metadata": {
    "pycharm": {
     "is_executing": true
    }
   },
   "outputs": [],
   "source": [
    "def Lagrange_interpol(x_arr, y_arr):\n",
    "    X=sp.symbols('x')\n",
    "    y=0\n",
    "    for k in range ( len(x_arr) ):\n",
    "        t=1\n",
    "        for j in range ( len(y_arr) ):\n",
    "            if j != k:\n",
    "                t=t* ( (X-x_arr[j]) /(x_arr[k]-x_arr[j]) )\n",
    "        y+= t*y_arr[k]\n",
    "    return sp.simplify(y)"
   ]
  },
  {
   "cell_type": "code",
   "execution_count": null,
   "metadata": {
    "pycharm": {
     "is_executing": true
    }
   },
   "outputs": [],
   "source": [
    "L = Lagrange_interpol(X_array,Y_array)\n",
    "L"
   ]
  },
  {
   "cell_type": "code",
   "execution_count": null,
   "metadata": {
    "pycharm": {
     "is_executing": true
    }
   },
   "outputs": [],
   "source": [
    "x = sp.symbols('x')\n",
    "lambd = sp.lambdify(x, L)\n",
    "x_real = np.linspace(-3, 2, 100)\n",
    "L_int = lambd(x_real)\n",
    "plt.figure(figsize = (5,5))\n",
    "plt.plot(x_real,L_int)\n",
    "plt.plot(X_array,Y_array,'o', color='black')\n",
    "plt.grid()"
   ]
  },
  {
   "cell_type": "markdown",
   "metadata": {},
   "source": [
    "### 2. Find a (parametric) equation defining the Bezier curve defined by the four points whose coordinates form the columns of the matrix\n",
    "$$P = \\begin{bmatrix} 1 & 3 & 5 & 7 \\\\ 1 & 2 & 1 & 3 \\end{bmatrix}\n",
    "$$\n",
    "\n"
   ]
  },
  {
   "cell_type": "markdown",
   "metadata": {},
   "source": [
    "### Solution:\n",
    "For n+1 points degree of polynomial 4 the formula will look like this:\n",
    "$$B(t) = \\sum_{k=0}^{n} C_n^k (1-t)^{n-k}t^kP_k$$"
   ]
  },
  {
   "cell_type": "markdown",
   "metadata": {},
   "source": [
    "$$\n",
    "B(t) = \\begin{pmatrix} 3 \\\\ 0 \\end{pmatrix} \\cdot (1-t)^3\\cdot t^0 \\cdot \\begin{pmatrix} 1 \\\\ 1 \\end{pmatrix}+\\begin{pmatrix} 3 \\\\ 1 \\end{pmatrix}\\cdot(1-t)^2\\cdot t^1\\cdot\\begin{pmatrix} 3 \\\\ 2 \\end{pmatrix}+\\begin{pmatrix} 3 \\\\ 2 \\end{pmatrix}\\cdot(1-t)^1\\cdot t^2\\cdot\\begin{pmatrix} 5 \\\\ 1 \\end{pmatrix}+\\begin{pmatrix} 3 \\\\ 3 \\end{pmatrix}\\cdot(1-t)^0\\cdot t^3\\cdot\\begin{pmatrix} 7 \\\\ 3 \\end{pmatrix}\n",
    "$$\n",
    "\n",
    "$$\n",
    "B(t) = (-t^3+3t^2-3t+1)\\begin{pmatrix} 1 \\\\ 1 \\end{pmatrix} +(3t^3-t^2+t)\\begin{pmatrix} 3 \\\\ 2 \\end{pmatrix} + (-3t^3+3t^2)\\begin{pmatrix} 5 \\\\ 0 \\end{pmatrix} + t^3\\begin{pmatrix} 7 \\\\ 3 \\end{pmatrix}\n",
    "$$\n",
    "\n",
    "$$\n",
    "B(t) = \\begin{pmatrix} 6t+1 \\\\ 5t^3 - 6t^2 + 3t + 1\\end{pmatrix}, t\\in[0,1]\n",
    "$$\n",
    "### Implementation:"
   ]
  },
  {
   "cell_type": "markdown",
   "metadata": {},
   "source": [
    "from math import comb"
   ]
  },
  {
   "cell_type": "code",
   "execution_count": null,
   "metadata": {
    "pycharm": {
     "is_executing": true
    }
   },
   "outputs": [],
   "source": [
    "from math import comb"
   ]
  },
  {
   "cell_type": "code",
   "execution_count": null,
   "metadata": {
    "pycharm": {
     "is_executing": true
    }
   },
   "outputs": [],
   "source": [
    "P = np.array([[1, 3, 5, 7],\n",
    "            [1, 2, 1, 3]])\n",
    "X_array = P[0,:]\n",
    "Y_array = P[1,:]"
   ]
  },
  {
   "cell_type": "code",
   "execution_count": null,
   "metadata": {
    "pycharm": {
     "is_executing": true
    }
   },
   "outputs": [],
   "source": [
    "def parametric_bezier(arr):\n",
    "    t=sp.symbols('t')\n",
    "    b = 0\n",
    "    for k in range(len(arr)):\n",
    "        b += comb(len(arr)-1,k)*(1-t)**(len(arr)-k-1)*t**k*arr[k]\n",
    "    return sp.simplify(b)"
   ]
  },
  {
   "cell_type": "code",
   "execution_count": null,
   "metadata": {
    "pycharm": {
     "is_executing": true
    }
   },
   "outputs": [],
   "source": [
    "Px = parametric_bezier(X_array)\n",
    "Py = parametric_bezier(Y_array)"
   ]
  },
  {
   "cell_type": "code",
   "execution_count": null,
   "metadata": {
    "pycharm": {
     "is_executing": true
    }
   },
   "outputs": [],
   "source": [
    "print('System of parametric equations:\\nx(t)={}\\ny(t)={}'.format(Px,Py))"
   ]
  },
  {
   "cell_type": "code",
   "execution_count": null,
   "metadata": {
    "pycharm": {
     "is_executing": true
    }
   },
   "outputs": [],
   "source": [
    "t = sp.symbols('t')\n",
    "lambda_x = sp.lambdify(t, Px)\n",
    "lambda_y = sp.lambdify(t, Py)\n",
    "t_real = np.linspace(0, 1, 100)\n",
    "x = lambda_x(t_real)\n",
    "y = lambda_y(t_real)\n",
    "plt.figure(figsize = (5,5))\n",
    "plt.plot(x,y)\n",
    "plt.plot(X_array,Y_array)\n",
    "plt.grid()"
   ]
  },
  {
   "cell_type": "markdown",
   "metadata": {},
   "source": [
    "### 3. Find a full rank decomposition and the pseudoinverse of the matrix\n",
    "$$A = \\begin{bmatrix} -1 & 2 & 2 \\\\ 8 & -1 & 2 \\\\ 2 & 1 & 2 \\\\ 5 & 0 & 2 \\end{bmatrix}\n",
    "$$\n",
    "\n",
    "### Solution:\n",
    "\n",
    "We need to find $F$ and $G$ such that $A = FG$\n",
    "$$\n",
    "\\begin{pmatrix} -1 & 2 & 2 \\\\ 8 & -1 & 2 \\\\ 2 & 1 & 2 \\\\ 5 & 0 & 2 \\end{pmatrix} =\\begin{pmatrix} 5 & 0 & 2 \\\\ 6 & -2 & 0 \\\\ -3 & 1 & 0 \\\\ 3 & -1 & 0 \\end{pmatrix}=\\begin{pmatrix} 1 & 0 & 0.4 \\\\ -3 & 1 & 0 \\\\ 0 & 0 & 0 \\\\ 0 & 0 & 0 \\end{pmatrix} \\Rightarrow \\begin{pmatrix} 1 & 0 & 0.4 \\\\ 0 & 1 & 1.2 \\end{pmatrix} = G\n",
    "$$\n",
    "$rkA = 2$, it means that the first 2 columns of $A$ is a matrix $F$.\n",
    "$$\n",
    "F = \\begin{pmatrix} -1 & 2\\\\ 8 & -1\\\\ 2 & 1\\\\ 5 & 0\\end{pmatrix}\n",
    "$$\n",
    "Let's check it. "
   ]
  },
  {
   "cell_type": "code",
   "execution_count": null,
   "metadata": {
    "pycharm": {
     "is_executing": true
    }
   },
   "outputs": [],
   "source": [
    "F = np.array([[-1,2],[8,-1],[2,1],[5,0]])\n",
    "G = np.array([[1, 0, 0.4],[0, 1, 1.2]])\n",
    "A = np.array([[-1,2,2],[8,-1,2],[2,1,2],[5,0,2]])\n",
    "F @ G == A"
   ]
  },
  {
   "cell_type": "markdown",
   "metadata": {},
   "source": [
    "Correct answer.\n",
    "Let's find pseudoinverse matrix $A^{+} = G^+F^+$\n",
    "\n",
    "$$\n",
    "F^+ = (F^*F)^{-1}F^*\n",
    "$$\n",
    "$$\n",
    "G^+ = G^*(GG^*)^{-1}\n",
    "$$"
   ]
  },
  {
   "cell_type": "code",
   "execution_count": null,
   "metadata": {
    "pycharm": {
     "is_executing": true
    }
   },
   "outputs": [],
   "source": [
    "F_plus = np.linalg.inv(F.T @ F) @ F.T\n",
    "G_plus =  G.T @ np.linalg.inv(G @ G.T)\n",
    "A_plus = (G_plus @ F_plus).round(5)\n",
    "print('F_plus:\\n {}\\nG_plus:\\n {}'.format(F_plus,G_plus))\n",
    "print('A_plus:\\n {}'.format(A_plus))"
   ]
  },
  {
   "cell_type": "markdown",
   "metadata": {},
   "source": [
    "So, \n",
    "$$\n",
    "F^+ = \\begin{pmatrix} 0.02 & 0.08 & 0.04 & 0.06\\\\0.36 & -0.06 & 0.22 & 0.08\\end{pmatrix}\n",
    "$$\n",
    "\n",
    "$$\n",
    "G^+ = \\begin{pmatrix} 0.938 & -0.185 \\\\ -0.185 & 0.446 \\\\ 0.154 & 0.462\\end{pmatrix}\n",
    "$$\n",
    "\n",
    "$$ \n",
    "A^{+} = G^+F^+= \\begin{pmatrix} -0.04769 & 0.08615 & -0.00308 & 0.04154 \\\\ 0.15692 & -0.04154 & 0.09077 & 0.02462 \\\\0.16923 & -0.01538 & 0.10769 & 0.04615 \\end{pmatrix}\n",
    "$$\n",
    "Let's check it:\n",
    "$$ AA^+A = A $$"
   ]
  },
  {
   "cell_type": "code",
   "execution_count": null,
   "metadata": {
    "pycharm": {
     "is_executing": true
    }
   },
   "outputs": [],
   "source": [
    "(A @ A_plus @ A).round(3) == A"
   ]
  },
  {
   "cell_type": "markdown",
   "metadata": {},
   "source": [
    "### 4. Find the minimal length least squares solution of the system of linear equations\n",
    "$$\n",
    "\\left\\{\\begin{array}{4} 5x + 0y + 2z + 2t = 9\\\\\n",
    "                        9x - 2y + 3z + 1t = 0\\\\\n",
    "                        9x + 3y + 7z + 9t = 0\\\\\n",
    "                        1x + 2y + 1z + 3t = 7\n",
    "       \\end{array}\\right.\n",
    "$$\n",
    "### Solution: \n",
    "Let's pretend this system of linear equations in matrix form: \n",
    "$$\n",
    "X = \\begin{pmatrix} x \\\\ y \\\\ z \\\\ t \\end{pmatrix}, \n",
    "A =  \\begin{pmatrix} 5 & 0 & 2 & 2 \\\\  9 & -2 & 3 & 1 \\\\ 9 & 3 & 7 &  9 \\\\  1 & 2 & 1 & 3\\end{pmatrix},\n",
    "B = \\begin{pmatrix} 9 \\\\ 0 \\\\ 0 \\\\ 7\\end{pmatrix}\n",
    "$$\n",
    "The solution is\n",
    "$ \\tilde{X} = A^+B $ where $A^{+} = G^+F^+$\n",
    "\n",
    "$$\n",
    "F^+ = (F^*F)^{-1}F^*\n",
    "$$\n",
    "$$\n",
    "G^+ = G^*(GG^*)^{-1}\n",
    "$$"
   ]
  },
  {
   "cell_type": "markdown",
   "metadata": {},
   "source": [
    "Let's find full rank recomposition of $A$ via Gauss Elimination.\n",
    "$$\n",
    "A =  \\begin{pmatrix} 5 & 0 & 2 & 2 \\\\  9 & -2 & 3 & 1 \\\\ 9 & 3 & 7 &  9 \\\\  1 & 2 & 1 & 3\\end{pmatrix}=\n",
    "     \\begin{pmatrix} 1 & 2 & 1 & 3 \\\\  0 & 4 & 1.2 & 5.2 \\\\ 0 & 3 & 0.4 & 3.6 \\\\  0 & 2 & 0.6 & 2.6\\end{pmatrix}=\n",
    "     \\begin{pmatrix} 1 & 2 & 1 & 3 \\\\  0 & 1 & 0.3 & 1.3 \\\\ 0 & 0 & 0.5 & 0.3 \\\\  0 & 0 & 0 & 0\\end{pmatrix}=\n",
    "     \\begin{pmatrix} 1 & 2 & 0 & 2.4 \\\\ 0 & 1 & 0 & 1.12 \\\\ 0 & 0 & 1 & 0.6 \\\\  0 & 0 & 0 & 0\\end{pmatrix}=\n",
    "     \\begin{pmatrix} 1 & 0 & 0 & 0.16 \\\\ 0 & 1 & 0 & 1.12 \\\\ 0 & 0 & 1 & 0.6 \\\\  0 & 0 & 0 & 0\\end{pmatrix}\n",
    "$$\n",
    "So, $rkA = 3$ and matrix $G$ is:\n",
    "$$\n",
    "G = \\begin{pmatrix} 1 & 0 & 0 & 0.16 \\\\ 0 & 1 & 0 & 1.12 \\\\ 0 & 0 & 1 & 0.6\\end{pmatrix}\n",
    "$$\n",
    "And matrix $F$ is:\n",
    "$$\n",
    "F = \\begin{pmatrix} 5 & 0 & 2 \\\\  9 & -2 & 3\\\\ 9 & 3 & 7\\\\  1 & 2 & 1\\end{pmatrix}\n",
    "$$"
   ]
  },
  {
   "cell_type": "markdown",
   "metadata": {},
   "source": [
    "So, we need to find\n",
    "$ \\tilde{X} = (F^*F)^{-1}F^*G^*(GG^*)^{-1}B $ "
   ]
  },
  {
   "cell_type": "code",
   "execution_count": null,
   "metadata": {
    "pycharm": {
     "is_executing": true
    }
   },
   "outputs": [],
   "source": [
    "A = np.array([[5, 0, 2, 2], \n",
    "              [9, -2, 3, 1], \n",
    "              [9, 3, 7 , 9], \n",
    "              [1, 2, 1 , 3]])\n",
    "F = np.array([[5, 0, 2], \n",
    "              [9, -2, 3], \n",
    "              [9, 3, 7], \n",
    "              [1, 2, 1]])\n",
    "G = np.array([[1, 0, 0, 0.16],[0, 1, 0, 1.12],[0, 0, 1, 0.6]])\n",
    "B = np.array([9, 0, 0, 7])\n",
    "F_plus = (np.linalg.inv(F.T @ F) @ F.T).round(2)\n",
    "G_plus =  (G.T @ np.linalg.inv(G @ G.T)).round(2)\n",
    "A_plus = (G_plus @ F_plus).round(2)\n",
    "print('F_plus:\\n {}\\nG_plus:\\n {}'.format(F_plus,G_plus))\n",
    "print('A_plus:\\n {}'.format(sp.latex(A_plus)))\n",
    "X_tilde = A_plus @ B\n",
    "print('X_tilde:\\n {}'.format(X_tilde.round(2)))"
   ]
  },
  {
   "cell_type": "markdown",
   "metadata": {},
   "source": [
    "So,\n",
    "$$\n",
    "F^+ = \\begin{pmatrix} 0.23 & 0.11 & -0.16 & 0.35 \\\\  0.25 & -0.09 & -0.12 & 0.59 \\\\ -0.4 & -0.1 & 0.4 &  -0.7\\end{pmatrix}\n",
    "$$\n",
    "$$\n",
    "G^+ = \\begin{pmatrix}  0.99 & -0.07 & -0.04 \\\\ -0.07 & 0.52 & -0.25 \\\\ -0.04 & -0.25 & 0.86 \\\\0.06 & 0.42 & 0.23\\end{pmatrix}\n",
    "$$\n",
    "$$\n",
    "A+ = \\begin{pmatrix}  0.23 & 0.12 & -0.17 & 0.33 \\\\ 0.21 & -0.03 & -0.15 & 0.46 \\\\ -0.42 & -0.07 & 0.38 & -0.76 \\\\ 0.03 & -0.05 & 0.03 & 0.11\\end{pmatrix}\n",
    "$$\n",
    "$$\n",
    "\\tilde{X} = A^+*B = \\begin{pmatrix}  4.38 \\\\ 5.11 \\\\ -9.1 \\\\ 1.04\\end{pmatrix}\n",
    "$$"
   ]
  },
  {
   "cell_type": "markdown",
   "metadata": {},
   "source": [
    "### 5. For the polynomial $x^3 − 3x^2 - 4x - 6$ find the best approximation with respect to the max-norm by a polynomial of degree 2 on a line segment [0, 5].\n",
    "\n",
    "### Solution:"
   ]
  },
  {
   "cell_type": "markdown",
   "metadata": {},
   "source": [
    "From consequence of Chebyshev Theorem for interval [a,b]:\n",
    "$$\n",
    "\\overline{T}_n(x) = \\alpha\\frac{(b-a)^n}{2^{2n-1}}T_n\\left(\\frac{2x-(b+a)}{b-a}\\right)\n",
    "$$\n",
    "where $\\alpha = 1$ (coefficient by variable with highest degree),$n = 3$, $a = 0$ and $b = 5$.\n",
    "\n",
    "$$\n",
    "\\overline{T}_3(x) = \\frac{5^3}{2^{5}}T_3\\left(\\frac{2x-5}{5}\\right)\n",
    "$$\n",
    "Chebyshev polynomial of the degree equal to 3:\n",
    "$$\n",
    "T_3(x) = 4x^3-3x\n",
    "$$\n",
    "So, \n",
    "$$\n",
    "T_3\\left(\\frac{2x-5}{5}\\right) = 4(\\frac{2x-5}{5})^3 - 3\\frac{2x-5}{5} = 4(0.4x-1)^3 - 1.2x + 3 = 4(0.064x^3-3*0.16x^2 + 3*0.4x - 1) - 1.2x + 3 =0.256x^3-1.92x^2+4.8x-4-1.2x+3 = 0.256x^3-1.92x^2 + 3.6x - 1\n",
    "$$"
   ]
  },
  {
   "cell_type": "markdown",
   "metadata": {},
   "source": [
    "So,\n",
    "$$\n",
    "\\overline{T}_3(x) = \\frac{5^3}{2^{5}}T_3\\left(\\frac{2x-5}{5}\\right)= \\frac{125}{32}(0.256x^3-1.92x^2 + 3.6x - 1) = \n",
    "x^3-7.5x^2+14.0625x-\\frac{125}{32}\n",
    "$$"
   ]
  },
  {
   "cell_type": "markdown",
   "metadata": {},
   "source": [
    "From Chebyshev Theorem:\n",
    "$$\n",
    "||f(x) - P_{n-1}(x)||_\\infty \\rightarrow \\min_{x \\in [a,b]},\n",
    "$$\n",
    "where \n",
    "$$\n",
    "f(x) - P_{n-1}(x) = \\overline{T}_n(X)\n",
    "\\Rightarrow P_{n-1}(x) = f(x) - \\overline{T}_n(X)\n",
    "$$"
   ]
  },
  {
   "cell_type": "markdown",
   "metadata": {},
   "source": [
    "So we got:\n",
    "$$\n",
    "P_{2}(x) = x^3 - 3x^2 - 4x - 6 - x^3+7.5x^2-14.0625x+\\frac{125}{32} = 4.5x^2 - 18.0625x - 2.09375\n",
    "$$"
   ]
  },
  {
   "cell_type": "code",
   "execution_count": 25,
   "metadata": {
    "pycharm": {
     "is_executing": true
    }
   },
   "outputs": [
    {
     "data": {
      "text/plain": [
       "<matplotlib.legend.Legend at 0x1c1642c8>"
      ]
     },
     "execution_count": 25,
     "metadata": {},
     "output_type": "execute_result"
    },
    {
     "data": {
      "image/png": "[encoded data removed]",
      "text/plain": [
       "<Figure size 432x288 with 1 Axes>"
      ]
     },
     "metadata": {
      "needs_background": "light"
     },
     "output_type": "display_data"
    }
   ],
   "source": [
    "x = np.linspace(0, 5, 100)\n",
    "y_cheb = 4.5*x**2 - 18.0625*x - 2.09375\n",
    "y_real = x**3-3*x**2-4*x-6\n",
    "plt.plot(x, y_cheb, label='4.5x^2 - 18.0625x - 2.09375')\n",
    "plt.plot(x, y_real, label='x^3 − 3x^2 - 4x - 6')\n",
    "plt.grid()\n",
    "plt.legend(bbox_to_anchor=(1.05, 1), loc='upper left', borderaxespad=0.)"
   ]
  },
  {
   "cell_type": "markdown",
   "metadata": {},
   "source": [
    "### 6. Find all the values of q such that the equation $2x^2 + xy (−6q − 2) + y^2(12q + 1) + z^2(12q − 1) = 1$ defines a unit circle with respect to some norm? Find the value of this norm fro the vector (1, 1, 1) as a function of q.\n",
    "\n",
    "\n"
   ]
  },
  {
   "cell_type": "markdown",
   "metadata": {},
   "source": [
    "### Solution:\n",
    "Let's build a matrix of quadratic form for this equation:\n",
    "\n",
    "$$\n",
    "M = \\begin{pmatrix} 2 & \\frac{-6q-2}{2} & 0 \\\\\\frac{-6q-2}{2} & 12q+1 & 0 \\\\ 0 & 0 & 12q-1\\end{pmatrix}\n",
    "$$"
   ]
  },
  {
   "cell_type": "markdown",
   "metadata": {},
   "source": [
    "Let's find $q$ values, such that this quadratic form is positive definite matrix.\n",
    "\n",
    "$\\Delta_1 = 1 > 0$ for any $q$\n",
    "\n",
    "$\\Delta_2 = 2*(12q+1) - \\frac{(-6q-2)^2}{4} = -3q^2+19.5q+1.5 > 0$ for $\\frac{3-\\sqrt{10}}{3}<q<\\frac{3+\\sqrt{10}}{3}$\n",
    "\n",
    "$\\Delta_3 = 2(12q+1)(12q-1) - (12q-1)\\frac{(-6q-2)^2}{4}=-108q^3+225q^2-6q-1>0 $ for $q<\\frac{3-\\sqrt{10}}{3}$ or $\\frac{1}{12}<q<\\frac{3+\\sqrt{10}}{3}$"
   ]
  },
  {
   "cell_type": "markdown",
   "metadata": {},
   "source": [
    "So, our quadratic form is positive definite and defines a unit circle with respect to some norm on interval:\n",
    "$$q\\in\\left(\\frac{1}{12}, \\frac{3+\\sqrt{10}}{3}\\right)$$"
   ]
  },
  {
   "cell_type": "markdown",
   "metadata": {},
   "source": [
    "Let's take a vector $v$, such that $v=(1,1,1)$, such that lies on this unit circle.\n",
    "So, general equation for plane is $z = ax + by + c$ and our system will look like this:\n",
    "$$\n",
    "\\left\\{\\begin{array}{4} 0 = a*0+b*0+c\\\\\n",
    "                        1 = a*1+b*1+c\n",
    "       \\end{array}\\right.\n",
    "\\Rightarrow\n",
    "\\left\\{\\begin{array}{4} c = 0\\\\ a + b = 1\n",
    "       \\end{array}\\right.\n",
    "$$"
   ]
  },
  {
   "cell_type": "markdown",
   "metadata": {},
   "source": [
    "With these coefficients our vector will be defined by two planes $z=y$ and $z=x$. Let's find, where our planes and ellipsoid intersect."
   ]
  },
  {
   "cell_type": "markdown",
   "metadata": {
    "pycharm": {
     "name": "#%% md\n"
    }
   },
   "source": [
    "$$\n",
    "\\left\\{\\begin{array}{4} z = y\\\\\n",
    "                        z = x\\\\\n",
    "                        2x^2 + xy (−6q − 2) + y^2(12q + 1) + z^2(12q − 1) = 1\\end{array}\\right.\n",
    "$$\n",
    "\n",
    "$$\n",
    "2x^2+x^2(−6q − 2)+x^2(12q + 1)+x^2(12q − 1) = 1 \\Rightarrow\n",
    "$$\n",
    "$$\n",
    "x^2(2-6q-2+12q+1+12q-1)=1 \\Rightarrow\n",
    "$$\n",
    "$$\n",
    "x^2 = \\frac{1}{18q} \\Rightarrow\n",
    "$$\n",
    "$$\n",
    "z=x=y=\\pm\\frac{1}{\\sqrt{18q}}\n",
    "$$"
   ]
  },
  {
   "cell_type": "markdown",
   "metadata": {},
   "source": [
    "We need to take positive numbers, because coordinates of $v$ are positive.\n",
    "$$\n",
    "v^0 = \\begin{pmatrix}\\frac{1}{\\sqrt{18q}}\\\\ \\frac{1}{\\sqrt{18q}}\\\\\\frac{1}{\\sqrt{18q}}\\end{pmatrix}\n",
    "$$\n",
    "So, our vector $v$ is calculated like $v =\\sqrt{18q}*v^0$"
   ]
  },
  {
   "cell_type": "markdown",
   "metadata": {},
   "source": [
    "By definition of norm, $$N(v) = |\\sqrt{18q}|*N(v^0)$$\n",
    "$$N(v) = \\sqrt{18q}$$"
   ]
  },
  {
   "cell_type": "markdown",
   "metadata": {},
   "source": [
    "Norm of vector $(1,1,1) = \\sqrt{18q},q\\in\\left(\\frac{1}{12}, \\frac{3+\\sqrt{10}}{3}\\right)$"
   ]
  }
 ],
 "metadata": {
  "kernelspec": {
   "display_name": "Python 3",
   "language": "python",
   "name": "python3"
  },
  "language_info": {
   "codemirror_mode": {
    "name": "ipython",
    "version": 3
   },
   "file_extension": ".py",
   "mimetype": "text/x-python",
   "name": "python",
   "nbconvert_exporter": "python",
   "pygments_lexer": "ipython3",
   "version": "3.8.5"
  }
 },
 "nbformat": 4,
 "nbformat_minor": 1
}
